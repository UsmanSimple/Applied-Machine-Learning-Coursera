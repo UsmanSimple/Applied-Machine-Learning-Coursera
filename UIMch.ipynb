{
 "cells": [
  {
   "cell_type": "code",
   "execution_count": 78,
   "metadata": {},
   "outputs": [],
   "source": [
    "import numpy as np\n",
    "import pandas as pd\n",
    "import matplotlib.pyplot as plt\n",
    "import seaborn as sns\n",
    "import warnings\n",
    "warnings.filterwarnings('ignore')\n",
    "sns.set()\n",
    "%matplotlib inline"
   ]
  },
  {
   "cell_type": "code",
   "execution_count": 79,
   "metadata": {},
   "outputs": [],
   "source": [
    "train = pd.read_csv('./train.csv',encoding='latin1' )\n",
    "test = pd.read_csv('./test.csv', encoding='latin1')\n",
    "address = pd.read_csv('./addresses.csv', encoding='latin1')\n",
    "lat = pd.read_csv('./latlons.csv' ,encoding='latin1')"
   ]
  },
  {
   "cell_type": "markdown",
   "metadata": {},
   "source": [
    "## Merging the Train dataset with address and lat"
   ]
  },
  {
   "cell_type": "code",
   "execution_count": 80,
   "metadata": {},
   "outputs": [
    {
     "data": {
      "text/plain": [
       "250306"
      ]
     },
     "execution_count": 80,
     "metadata": {},
     "output_type": "execute_result"
    }
   ],
   "source": [
    "new_train = pd.merge(train, address, on = 'ticket_id')\n",
    "train = pd.merge(new_train, lat, on = 'address')\n",
    "train.shape[0]"
   ]
  },
  {
   "cell_type": "code",
   "execution_count": 81,
   "metadata": {},
   "outputs": [
    {
     "name": "stdout",
     "output_type": "stream",
     "text": [
      "Train Dataset Dimensions:\n",
      "The train dataset has 250306 rows and 37 columns\n"
     ]
    }
   ],
   "source": [
    "print('Train Dataset Dimensions:')\n",
    "print(f'The train dataset has {train.shape[0]} rows and {train.shape[1]} columns')"
   ]
  },
  {
   "cell_type": "markdown",
   "metadata": {},
   "source": [
    "## Merging the Test dataset with address and lat"
   ]
  },
  {
   "cell_type": "code",
   "execution_count": 82,
   "metadata": {},
   "outputs": [
    {
     "data": {
      "text/plain": [
       "61001"
      ]
     },
     "execution_count": 82,
     "metadata": {},
     "output_type": "execute_result"
    }
   ],
   "source": [
    "new_test = pd.merge(test, address, on = 'ticket_id')\n",
    "test = pd.merge(new_test, lat, on = 'address')\n",
    "test.shape[0]"
   ]
  },
  {
   "cell_type": "code",
   "execution_count": 83,
   "metadata": {},
   "outputs": [
    {
     "name": "stdout",
     "output_type": "stream",
     "text": [
      "Test Dataset Dimensions:\n",
      "The test dataset has 61001 rows and 30 columns\n"
     ]
    }
   ],
   "source": [
    "print('Test Dataset Dimensions:')\n",
    "print(f'The test dataset has {test.shape[0]} rows and {test.shape[1]} columns')"
   ]
  },
  {
   "cell_type": "markdown",
   "metadata": {},
   "source": [
    "## Delete the features which are not in the test set"
   ]
  },
  {
   "cell_type": "code",
   "execution_count": 84,
   "metadata": {},
   "outputs": [],
   "source": [
    "Features_drop_from_train_dataset = ['payment_amount', 'payment_date', 'payment_status', 'balance_due', 'collection_status', 'compliance_detail' ]"
   ]
  },
  {
   "cell_type": "code",
   "execution_count": 85,
   "metadata": {},
   "outputs": [],
   "source": [
    "train.drop(Features_drop_from_train_dataset, axis = 1, inplace = True)"
   ]
  },
  {
   "cell_type": "markdown",
   "metadata": {},
   "source": [
    "## The train dimension should be the same as test set"
   ]
  },
  {
   "cell_type": "code",
   "execution_count": 86,
   "metadata": {},
   "outputs": [
    {
     "name": "stdout",
     "output_type": "stream",
     "text": [
      "New Train Dimension after deleting non existing features in the test set\n",
      "The train dataset has 250306 rows and 31 columns\n"
     ]
    }
   ],
   "source": [
    "print('New Train Dimension after deleting non existing features in the test set')\n",
    "print(f'The train dataset has {train.shape[0]} rows and {train.shape[1]} columns')"
   ]
  },
  {
   "cell_type": "markdown",
   "metadata": {},
   "source": [
    "## Remove the null value from the target 'Compliance'"
   ]
  },
  {
   "cell_type": "code",
   "execution_count": 87,
   "metadata": {},
   "outputs": [],
   "source": [
    "train = train[~train.compliance.isnull()]"
   ]
  },
  {
   "cell_type": "code",
   "execution_count": 88,
   "metadata": {},
   "outputs": [
    {
     "data": {
      "text/plain": [
       "0.0    148283\n",
       "1.0     11597\n",
       "Name: compliance, dtype: int64"
      ]
     },
     "execution_count": 88,
     "metadata": {},
     "output_type": "execute_result"
    }
   ],
   "source": [
    "train.compliance.value_counts()"
   ]
  },
  {
   "cell_type": "markdown",
   "metadata": {},
   "source": [
    "## Check for categorical and numerical feature"
   ]
  },
  {
   "cell_type": "code",
   "execution_count": 89,
   "metadata": {},
   "outputs": [
    {
     "data": {
      "text/plain": [
       "17"
      ]
     },
     "execution_count": 89,
     "metadata": {},
     "output_type": "execute_result"
    }
   ],
   "source": [
    "cat_features = train.select_dtypes(include=[np.object])\n",
    "len(cat_features.columns)"
   ]
  },
  {
   "cell_type": "code",
   "execution_count": 90,
   "metadata": {},
   "outputs": [
    {
     "data": {
      "text/plain": [
       "14"
      ]
     },
     "execution_count": 90,
     "metadata": {},
     "output_type": "execute_result"
    }
   ],
   "source": [
    "num_features = train.select_dtypes(include = [np.number])\n",
    "len(num_features.columns)"
   ]
  },
  {
   "cell_type": "code",
   "execution_count": 91,
   "metadata": {},
   "outputs": [
    {
     "data": {
      "text/plain": [
       "Index(['agency_name', 'inspector_name', 'violator_name',\n",
       "       'violation_street_name', 'mailing_address_str_name', 'city', 'state',\n",
       "       'zip_code', 'non_us_str_code', 'country', 'ticket_issued_date',\n",
       "       'hearing_date', 'violation_code', 'violation_description',\n",
       "       'disposition', 'grafitti_status', 'address'],\n",
       "      dtype='object')"
      ]
     },
     "execution_count": 91,
     "metadata": {},
     "output_type": "execute_result"
    }
   ],
   "source": [
    "cat_features.columns"
   ]
  },
  {
   "cell_type": "code",
   "execution_count": 92,
   "metadata": {},
   "outputs": [
    {
     "data": {
      "text/plain": [
       "Index(['ticket_id', 'violation_street_number', 'violation_zip_code',\n",
       "       'mailing_address_str_number', 'fine_amount', 'admin_fee', 'state_fee',\n",
       "       'late_fee', 'discount_amount', 'clean_up_cost', 'judgment_amount',\n",
       "       'compliance', 'lat', 'lon'],\n",
       "      dtype='object')"
      ]
     },
     "execution_count": 92,
     "metadata": {},
     "output_type": "execute_result"
    }
   ],
   "source": [
    "num_features.columns"
   ]
  },
  {
   "cell_type": "markdown",
   "metadata": {},
   "source": [
    "## Remove features that has missing value higher than 75%"
   ]
  },
  {
   "cell_type": "code",
   "execution_count": 93,
   "metadata": {},
   "outputs": [],
   "source": [
    "def missing_values(df):\n",
    "    \n",
    "    \n",
    "    #total missing values\n",
    "    mis_val = df.isnull().sum()\n",
    "    \n",
    "    # Percentage of the missing values\n",
    "    mis_val_percent = 100*df.isnull().sum()/ len(df)\n",
    "    \n",
    "\n",
    "    \n",
    "    # Table of the missing value\n",
    "    mis_val_table = pd.concat([mis_val, mis_val_percent], axis = 1)\n",
    "    \n",
    "    # Rename the columns of the missing values\n",
    "    mis_val_table_ren_column = mis_val_table.rename(columns = {0 : 'Missing Values', 1: '% of Total values'})\n",
    "    \n",
    "    # sort the percentage of missing values and round to 2 d.p\n",
    "    mis_val_table_ren_column = mis_val_table_ren_column[mis_val_table_ren_column.iloc[:, 1] != 0 ].sort_values('% of Total values', ascending = False).round(2)\n",
    "    \n",
    "    # print the summary of the dataset\n",
    "    print('The selected dataset has {} columns and {} rows.'.format(df.shape[1], df.shape[0])+ '\\n' + 'There are {} columns that have missing values.'.format(mis_val_table_ren_column.shape[0]))\n",
    "    \n",
    "    # Return the dataframe with missing informations\n",
    "    return mis_val_table_ren_column"
   ]
  },
  {
   "cell_type": "code",
   "execution_count": 94,
   "metadata": {},
   "outputs": [
    {
     "name": "stdout",
     "output_type": "stream",
     "text": [
      "The features in the train dataset with missing values\n",
      "The selected dataset has 31 columns and 159880 rows.\n",
      "There are 11 columns that have missing values.\n"
     ]
    },
    {
     "data": {
      "text/html": [
       "<div>\n",
       "<style scoped>\n",
       "    .dataframe tbody tr th:only-of-type {\n",
       "        vertical-align: middle;\n",
       "    }\n",
       "\n",
       "    .dataframe tbody tr th {\n",
       "        vertical-align: top;\n",
       "    }\n",
       "\n",
       "    .dataframe thead th {\n",
       "        text-align: right;\n",
       "    }\n",
       "</style>\n",
       "<table border=\"1\" class=\"dataframe\">\n",
       "  <thead>\n",
       "    <tr style=\"text-align: right;\">\n",
       "      <th></th>\n",
       "      <th>Missing Values</th>\n",
       "      <th>% of Total values</th>\n",
       "    </tr>\n",
       "  </thead>\n",
       "  <tbody>\n",
       "    <tr>\n",
       "      <th>violation_zip_code</th>\n",
       "      <td>159880</td>\n",
       "      <td>100.00</td>\n",
       "    </tr>\n",
       "    <tr>\n",
       "      <th>grafitti_status</th>\n",
       "      <td>159880</td>\n",
       "      <td>100.00</td>\n",
       "    </tr>\n",
       "    <tr>\n",
       "      <th>non_us_str_code</th>\n",
       "      <td>159877</td>\n",
       "      <td>100.00</td>\n",
       "    </tr>\n",
       "    <tr>\n",
       "      <th>mailing_address_str_number</th>\n",
       "      <td>2558</td>\n",
       "      <td>1.60</td>\n",
       "    </tr>\n",
       "    <tr>\n",
       "      <th>hearing_date</th>\n",
       "      <td>227</td>\n",
       "      <td>0.14</td>\n",
       "    </tr>\n",
       "    <tr>\n",
       "      <th>state</th>\n",
       "      <td>84</td>\n",
       "      <td>0.05</td>\n",
       "    </tr>\n",
       "    <tr>\n",
       "      <th>violator_name</th>\n",
       "      <td>26</td>\n",
       "      <td>0.02</td>\n",
       "    </tr>\n",
       "    <tr>\n",
       "      <th>mailing_address_str_name</th>\n",
       "      <td>3</td>\n",
       "      <td>0.00</td>\n",
       "    </tr>\n",
       "    <tr>\n",
       "      <th>lat</th>\n",
       "      <td>2</td>\n",
       "      <td>0.00</td>\n",
       "    </tr>\n",
       "    <tr>\n",
       "      <th>lon</th>\n",
       "      <td>2</td>\n",
       "      <td>0.00</td>\n",
       "    </tr>\n",
       "    <tr>\n",
       "      <th>zip_code</th>\n",
       "      <td>1</td>\n",
       "      <td>0.00</td>\n",
       "    </tr>\n",
       "  </tbody>\n",
       "</table>\n",
       "</div>"
      ],
      "text/plain": [
       "                            Missing Values  % of Total values\n",
       "violation_zip_code                  159880             100.00\n",
       "grafitti_status                     159880             100.00\n",
       "non_us_str_code                     159877             100.00\n",
       "mailing_address_str_number            2558               1.60\n",
       "hearing_date                           227               0.14\n",
       "state                                   84               0.05\n",
       "violator_name                           26               0.02\n",
       "mailing_address_str_name                 3               0.00\n",
       "lat                                      2               0.00\n",
       "lon                                      2               0.00\n",
       "zip_code                                 1               0.00"
      ]
     },
     "execution_count": 94,
     "metadata": {},
     "output_type": "execute_result"
    }
   ],
   "source": [
    "print('The features in the train dataset with missing values')\n",
    "missing_values(train)"
   ]
  },
  {
   "cell_type": "code",
   "execution_count": 95,
   "metadata": {},
   "outputs": [
    {
     "name": "stdout",
     "output_type": "stream",
     "text": [
      "The selected dataset has 30 columns and 61001 rows.\n",
      "There are 12 columns that have missing values.\n"
     ]
    },
    {
     "data": {
      "text/html": [
       "<div>\n",
       "<style scoped>\n",
       "    .dataframe tbody tr th:only-of-type {\n",
       "        vertical-align: middle;\n",
       "    }\n",
       "\n",
       "    .dataframe tbody tr th {\n",
       "        vertical-align: top;\n",
       "    }\n",
       "\n",
       "    .dataframe thead th {\n",
       "        text-align: right;\n",
       "    }\n",
       "</style>\n",
       "<table border=\"1\" class=\"dataframe\">\n",
       "  <thead>\n",
       "    <tr style=\"text-align: right;\">\n",
       "      <th></th>\n",
       "      <th>Missing Values</th>\n",
       "      <th>% of Total values</th>\n",
       "    </tr>\n",
       "  </thead>\n",
       "  <tbody>\n",
       "    <tr>\n",
       "      <th>non_us_str_code</th>\n",
       "      <td>61001</td>\n",
       "      <td>100.00</td>\n",
       "    </tr>\n",
       "    <tr>\n",
       "      <th>grafitti_status</th>\n",
       "      <td>58780</td>\n",
       "      <td>96.36</td>\n",
       "    </tr>\n",
       "    <tr>\n",
       "      <th>violation_zip_code</th>\n",
       "      <td>36977</td>\n",
       "      <td>60.62</td>\n",
       "    </tr>\n",
       "    <tr>\n",
       "      <th>hearing_date</th>\n",
       "      <td>2197</td>\n",
       "      <td>3.60</td>\n",
       "    </tr>\n",
       "    <tr>\n",
       "      <th>mailing_address_str_number</th>\n",
       "      <td>1014</td>\n",
       "      <td>1.66</td>\n",
       "    </tr>\n",
       "    <tr>\n",
       "      <th>state</th>\n",
       "      <td>331</td>\n",
       "      <td>0.54</td>\n",
       "    </tr>\n",
       "    <tr>\n",
       "      <th>violator_name</th>\n",
       "      <td>28</td>\n",
       "      <td>0.05</td>\n",
       "    </tr>\n",
       "    <tr>\n",
       "      <th>lat</th>\n",
       "      <td>5</td>\n",
       "      <td>0.01</td>\n",
       "    </tr>\n",
       "    <tr>\n",
       "      <th>lon</th>\n",
       "      <td>5</td>\n",
       "      <td>0.01</td>\n",
       "    </tr>\n",
       "    <tr>\n",
       "      <th>mailing_address_str_name</th>\n",
       "      <td>3</td>\n",
       "      <td>0.00</td>\n",
       "    </tr>\n",
       "    <tr>\n",
       "      <th>zip_code</th>\n",
       "      <td>3</td>\n",
       "      <td>0.00</td>\n",
       "    </tr>\n",
       "    <tr>\n",
       "      <th>city</th>\n",
       "      <td>1</td>\n",
       "      <td>0.00</td>\n",
       "    </tr>\n",
       "  </tbody>\n",
       "</table>\n",
       "</div>"
      ],
      "text/plain": [
       "                            Missing Values  % of Total values\n",
       "non_us_str_code                      61001             100.00\n",
       "grafitti_status                      58780              96.36\n",
       "violation_zip_code                   36977              60.62\n",
       "hearing_date                          2197               3.60\n",
       "mailing_address_str_number            1014               1.66\n",
       "state                                  331               0.54\n",
       "violator_name                           28               0.05\n",
       "lat                                      5               0.01\n",
       "lon                                      5               0.01\n",
       "mailing_address_str_name                 3               0.00\n",
       "zip_code                                 3               0.00\n",
       "city                                     1               0.00"
      ]
     },
     "execution_count": 95,
     "metadata": {},
     "output_type": "execute_result"
    }
   ],
   "source": [
    "missing_values(test)"
   ]
  },
  {
   "cell_type": "markdown",
   "metadata": {},
   "source": [
    "## The Uniqueness of the features"
   ]
  },
  {
   "cell_type": "code",
   "execution_count": 96,
   "metadata": {},
   "outputs": [],
   "source": [
    "def unique_feature(data):\n",
    "    cat_col = data.select_dtypes(include = [np.object])\n",
    "    unique_no = []\n",
    "    for col in cat_col.columns:\n",
    "        unique_no.append(cat_col[col].nunique())\n",
    "    df = pd.DataFrame({'No of Unique variable':unique_no}, index = cat_col.columns)\n",
    "    df = df.reset_index()\n",
    "    df.columns = ['Features', 'No of Unique variables']\n",
    "    df = df.sort_values('No of Unique variables', ascending = False)\n",
    "    return df"
   ]
  },
  {
   "cell_type": "code",
   "execution_count": 97,
   "metadata": {},
   "outputs": [
    {
     "data": {
      "text/html": [
       "<div>\n",
       "<style scoped>\n",
       "    .dataframe tbody tr th:only-of-type {\n",
       "        vertical-align: middle;\n",
       "    }\n",
       "\n",
       "    .dataframe tbody tr th {\n",
       "        vertical-align: top;\n",
       "    }\n",
       "\n",
       "    .dataframe thead th {\n",
       "        text-align: right;\n",
       "    }\n",
       "</style>\n",
       "<table border=\"1\" class=\"dataframe\">\n",
       "  <thead>\n",
       "    <tr style=\"text-align: right;\">\n",
       "      <th></th>\n",
       "      <th>Features</th>\n",
       "      <th>No of Unique variables</th>\n",
       "    </tr>\n",
       "  </thead>\n",
       "  <tbody>\n",
       "    <tr>\n",
       "      <th>2</th>\n",
       "      <td>violator_name</td>\n",
       "      <td>84656</td>\n",
       "    </tr>\n",
       "    <tr>\n",
       "      <th>16</th>\n",
       "      <td>address</td>\n",
       "      <td>71901</td>\n",
       "    </tr>\n",
       "    <tr>\n",
       "      <th>10</th>\n",
       "      <td>ticket_issued_date</td>\n",
       "      <td>68097</td>\n",
       "    </tr>\n",
       "    <tr>\n",
       "      <th>4</th>\n",
       "      <td>mailing_address_str_name</td>\n",
       "      <td>28440</td>\n",
       "    </tr>\n",
       "    <tr>\n",
       "      <th>11</th>\n",
       "      <td>hearing_date</td>\n",
       "      <td>5970</td>\n",
       "    </tr>\n",
       "    <tr>\n",
       "      <th>7</th>\n",
       "      <td>zip_code</td>\n",
       "      <td>4622</td>\n",
       "    </tr>\n",
       "    <tr>\n",
       "      <th>5</th>\n",
       "      <td>city</td>\n",
       "      <td>4093</td>\n",
       "    </tr>\n",
       "    <tr>\n",
       "      <th>3</th>\n",
       "      <td>violation_street_name</td>\n",
       "      <td>1716</td>\n",
       "    </tr>\n",
       "    <tr>\n",
       "      <th>13</th>\n",
       "      <td>violation_description</td>\n",
       "      <td>207</td>\n",
       "    </tr>\n",
       "    <tr>\n",
       "      <th>12</th>\n",
       "      <td>violation_code</td>\n",
       "      <td>189</td>\n",
       "    </tr>\n",
       "    <tr>\n",
       "      <th>1</th>\n",
       "      <td>inspector_name</td>\n",
       "      <td>159</td>\n",
       "    </tr>\n",
       "    <tr>\n",
       "      <th>6</th>\n",
       "      <td>state</td>\n",
       "      <td>59</td>\n",
       "    </tr>\n",
       "    <tr>\n",
       "      <th>0</th>\n",
       "      <td>agency_name</td>\n",
       "      <td>5</td>\n",
       "    </tr>\n",
       "    <tr>\n",
       "      <th>9</th>\n",
       "      <td>country</td>\n",
       "      <td>5</td>\n",
       "    </tr>\n",
       "    <tr>\n",
       "      <th>14</th>\n",
       "      <td>disposition</td>\n",
       "      <td>4</td>\n",
       "    </tr>\n",
       "    <tr>\n",
       "      <th>8</th>\n",
       "      <td>non_us_str_code</td>\n",
       "      <td>2</td>\n",
       "    </tr>\n",
       "    <tr>\n",
       "      <th>15</th>\n",
       "      <td>grafitti_status</td>\n",
       "      <td>0</td>\n",
       "    </tr>\n",
       "  </tbody>\n",
       "</table>\n",
       "</div>"
      ],
      "text/plain": [
       "                    Features  No of Unique variables\n",
       "2              violator_name                   84656\n",
       "16                   address                   71901\n",
       "10        ticket_issued_date                   68097\n",
       "4   mailing_address_str_name                   28440\n",
       "11              hearing_date                    5970\n",
       "7                   zip_code                    4622\n",
       "5                       city                    4093\n",
       "3      violation_street_name                    1716\n",
       "13     violation_description                     207\n",
       "12            violation_code                     189\n",
       "1             inspector_name                     159\n",
       "6                      state                      59\n",
       "0                agency_name                       5\n",
       "9                    country                       5\n",
       "14               disposition                       4\n",
       "8            non_us_str_code                       2\n",
       "15           grafitti_status                       0"
      ]
     },
     "execution_count": 97,
     "metadata": {},
     "output_type": "execute_result"
    }
   ],
   "source": [
    "unique_feature(train)"
   ]
  },
  {
   "cell_type": "code",
   "execution_count": 98,
   "metadata": {},
   "outputs": [
    {
     "data": {
      "text/html": [
       "<div>\n",
       "<style scoped>\n",
       "    .dataframe tbody tr th:only-of-type {\n",
       "        vertical-align: middle;\n",
       "    }\n",
       "\n",
       "    .dataframe tbody tr th {\n",
       "        vertical-align: top;\n",
       "    }\n",
       "\n",
       "    .dataframe thead th {\n",
       "        text-align: right;\n",
       "    }\n",
       "</style>\n",
       "<table border=\"1\" class=\"dataframe\">\n",
       "  <thead>\n",
       "    <tr style=\"text-align: right;\">\n",
       "      <th></th>\n",
       "      <th>Features</th>\n",
       "      <th>No of Unique variables</th>\n",
       "    </tr>\n",
       "  </thead>\n",
       "  <tbody>\n",
       "    <tr>\n",
       "      <th>2</th>\n",
       "      <td>violator_name</td>\n",
       "      <td>38515</td>\n",
       "    </tr>\n",
       "    <tr>\n",
       "      <th>17</th>\n",
       "      <td>address</td>\n",
       "      <td>37276</td>\n",
       "    </tr>\n",
       "    <tr>\n",
       "      <th>11</th>\n",
       "      <td>ticket_issued_date</td>\n",
       "      <td>33064</td>\n",
       "    </tr>\n",
       "    <tr>\n",
       "      <th>6</th>\n",
       "      <td>mailing_address_str_name</td>\n",
       "      <td>16851</td>\n",
       "    </tr>\n",
       "    <tr>\n",
       "      <th>5</th>\n",
       "      <td>mailing_address_str_number</td>\n",
       "      <td>9703</td>\n",
       "    </tr>\n",
       "    <tr>\n",
       "      <th>12</th>\n",
       "      <td>hearing_date</td>\n",
       "      <td>3312</td>\n",
       "    </tr>\n",
       "    <tr>\n",
       "      <th>7</th>\n",
       "      <td>city</td>\n",
       "      <td>3266</td>\n",
       "    </tr>\n",
       "    <tr>\n",
       "      <th>9</th>\n",
       "      <td>zip_code</td>\n",
       "      <td>2900</td>\n",
       "    </tr>\n",
       "    <tr>\n",
       "      <th>3</th>\n",
       "      <td>violation_street_name</td>\n",
       "      <td>1477</td>\n",
       "    </tr>\n",
       "    <tr>\n",
       "      <th>14</th>\n",
       "      <td>violation_description</td>\n",
       "      <td>163</td>\n",
       "    </tr>\n",
       "    <tr>\n",
       "      <th>13</th>\n",
       "      <td>violation_code</td>\n",
       "      <td>151</td>\n",
       "    </tr>\n",
       "    <tr>\n",
       "      <th>1</th>\n",
       "      <td>inspector_name</td>\n",
       "      <td>116</td>\n",
       "    </tr>\n",
       "    <tr>\n",
       "      <th>8</th>\n",
       "      <td>state</td>\n",
       "      <td>58</td>\n",
       "    </tr>\n",
       "    <tr>\n",
       "      <th>4</th>\n",
       "      <td>violation_zip_code</td>\n",
       "      <td>58</td>\n",
       "    </tr>\n",
       "    <tr>\n",
       "      <th>15</th>\n",
       "      <td>disposition</td>\n",
       "      <td>8</td>\n",
       "    </tr>\n",
       "    <tr>\n",
       "      <th>0</th>\n",
       "      <td>agency_name</td>\n",
       "      <td>3</td>\n",
       "    </tr>\n",
       "    <tr>\n",
       "      <th>10</th>\n",
       "      <td>country</td>\n",
       "      <td>1</td>\n",
       "    </tr>\n",
       "    <tr>\n",
       "      <th>16</th>\n",
       "      <td>grafitti_status</td>\n",
       "      <td>1</td>\n",
       "    </tr>\n",
       "  </tbody>\n",
       "</table>\n",
       "</div>"
      ],
      "text/plain": [
       "                      Features  No of Unique variables\n",
       "2                violator_name                   38515\n",
       "17                     address                   37276\n",
       "11          ticket_issued_date                   33064\n",
       "6     mailing_address_str_name                   16851\n",
       "5   mailing_address_str_number                    9703\n",
       "12                hearing_date                    3312\n",
       "7                         city                    3266\n",
       "9                     zip_code                    2900\n",
       "3        violation_street_name                    1477\n",
       "14       violation_description                     163\n",
       "13              violation_code                     151\n",
       "1               inspector_name                     116\n",
       "8                        state                      58\n",
       "4           violation_zip_code                      58\n",
       "15                 disposition                       8\n",
       "0                  agency_name                       3\n",
       "10                     country                       1\n",
       "16             grafitti_status                       1"
      ]
     },
     "execution_count": 98,
     "metadata": {},
     "output_type": "execute_result"
    }
   ],
   "source": [
    "unique_feature(test)"
   ]
  },
  {
   "cell_type": "markdown",
   "metadata": {},
   "source": [
    "# Check for country"
   ]
  },
  {
   "cell_type": "code",
   "execution_count": 99,
   "metadata": {},
   "outputs": [
    {
     "data": {
      "text/plain": [
       "USA     159869\n",
       "Cana         6\n",
       "Egyp         2\n",
       "Aust         2\n",
       "Germ         1\n",
       "Name: country, dtype: int64"
      ]
     },
     "execution_count": 99,
     "metadata": {},
     "output_type": "execute_result"
    }
   ],
   "source": [
    "train.country.value_counts()"
   ]
  },
  {
   "cell_type": "code",
   "execution_count": 100,
   "metadata": {},
   "outputs": [
    {
     "data": {
      "text/plain": [
       "USA    61001\n",
       "Name: country, dtype: int64"
      ]
     },
     "execution_count": 100,
     "metadata": {},
     "output_type": "execute_result"
    }
   ],
   "source": [
    "test.country.value_counts()"
   ]
  },
  {
   "cell_type": "code",
   "execution_count": 101,
   "metadata": {},
   "outputs": [],
   "source": [
    "train = train[train.country == 'USA']"
   ]
  },
  {
   "cell_type": "code",
   "execution_count": 102,
   "metadata": {},
   "outputs": [
    {
     "data": {
      "text/plain": [
       "USA    159869\n",
       "Name: country, dtype: int64"
      ]
     },
     "execution_count": 102,
     "metadata": {},
     "output_type": "execute_result"
    }
   ],
   "source": [
    "train.country.value_counts()"
   ]
  },
  {
   "cell_type": "code",
   "execution_count": 103,
   "metadata": {},
   "outputs": [],
   "source": [
    "date_col = ['ticket_issued_date', 'hearing_date']\n",
    "for feat in date_col:\n",
    "    train[feat] = pd.to_datetime(train[feat])\n",
    "    test[feat] = pd.to_datetime(test[feat])"
   ]
  },
  {
   "cell_type": "code",
   "execution_count": 104,
   "metadata": {},
   "outputs": [
    {
     "data": {
      "text/plain": [
       "Timestamp('2017-01-25 13:30:00')"
      ]
     },
     "execution_count": 104,
     "metadata": {},
     "output_type": "execute_result"
    }
   ],
   "source": [
    "test.hearing_date.max()"
   ]
  },
  {
   "cell_type": "code",
   "execution_count": 105,
   "metadata": {},
   "outputs": [
    {
     "data": {
      "text/plain": [
       "Timestamp('2012-01-19 09:00:00')"
      ]
     },
     "execution_count": 105,
     "metadata": {},
     "output_type": "execute_result"
    }
   ],
   "source": [
    "test.hearing_date.min()"
   ]
  },
  {
   "cell_type": "code",
   "execution_count": 106,
   "metadata": {},
   "outputs": [
    {
     "data": {
      "text/plain": [
       "12739 monica, Detroit MI             1\n",
       "14728 kilbourne, Detroit MI          1\n",
       "2315 boston blvd, Detroit MI         1\n",
       "10833 lakepointe, Detroit MI         1\n",
       "3113 ewald circle, Detroit MI        1\n",
       "18174 russell, Detroit MI            1\n",
       "5438 seneca, Detroit MI              1\n",
       "5965 oldtown, Detroit MI             1\n",
       "6301 mettetal, Detroit MI            1\n",
       "3846 fredro, Detroit MI              1\n",
       "11288 college, Detroit MI            1\n",
       "15702 stansbury, Detroit MI          1\n",
       "14867 mapleridge, Detroit MI         1\n",
       "3410 algonquin, Detroit MI           1\n",
       "896 euclid, Detroit MI               1\n",
       "4820 dickerson, Detroit MI           1\n",
       "9366 woodside, Detroit MI            1\n",
       "2001 st marys, Detroit MI            1\n",
       "16580 sorrento, Detroit MI           1\n",
       "16751 heyden, Detroit MI             1\n",
       "8317 auburn, Detroit MI              1\n",
       "20745 tireman, Detroit MI            1\n",
       "8876 coyle, Detroit MI               1\n",
       "8273 northlawn, Detroit MI           1\n",
       "15044 young, Detroit MI              1\n",
       "3685 somerset, Detroit MI            1\n",
       "1532 atkinson, Detroit MI            1\n",
       "5782 chalmers, Detroit MI            1\n",
       "26 greendale, Detroit MI             1\n",
       "16430 tacoma, Detroit MI             1\n",
       "19934 indiana, Detroit MI            1\n",
       "11660 minock, Detroit MI             1\n",
       "11908 roxbury, Detroit MI            1\n",
       "5739 marlborough, Detroit MI         1\n",
       "8250 northlawn, Detroit MI           1\n",
       "17409 greenlawn, Detroit MI          1\n",
       "16915 lilac, Detroit MI              1\n",
       "14844 vaughan, Detroit MI            1\n",
       "7453 dolphin, Detroit MI             1\n",
       "9556 longacre, Detroit MI            1\n",
       "18476 winthrop, Detroit MI           1\n",
       "15733 washburn, Detroit MI           1\n",
       "7436 winthrop, Detroit MI            1\n",
       "19705 cooley, Detroit MI             1\n",
       "4572 pacific, Detroit MI             1\n",
       "13605 tacoma, Detroit MI             1\n",
       "19720 gilchrist, Detroit MI          1\n",
       "16904 stout, Detroit MI              1\n",
       "18430 trinity, Detroit MI            1\n",
       "12063 ashton, Detroit MI             1\n",
       "20473 bramford, Detroit MI           1\n",
       "5749 lenox, Detroit MI               1\n",
       "19957 roselawn, Detroit MI           1\n",
       "13045 mcnichols, Detroit MI 48205    1\n",
       "8461 outer drive, Detroit MI         1\n",
       "7444 dolphin, Detroit MI             1\n",
       "5523 farmbrook, Detroit MI           1\n",
       "4603 ashland, Detroit MI             1\n",
       "4828 tarnow, Detroit MI              1\n",
       "16176 baylis, Detroit MI             1\n",
       "Name: address, dtype: int64"
      ]
     },
     "execution_count": 106,
     "metadata": {},
     "output_type": "execute_result"
    }
   ],
   "source": [
    "test[test.state.isnull()]['address'].value_counts().tail(60)"
   ]
  },
  {
   "cell_type": "code",
   "execution_count": 107,
   "metadata": {},
   "outputs": [
    {
     "data": {
      "text/html": [
       "<div>\n",
       "<style scoped>\n",
       "    .dataframe tbody tr th:only-of-type {\n",
       "        vertical-align: middle;\n",
       "    }\n",
       "\n",
       "    .dataframe tbody tr th {\n",
       "        vertical-align: top;\n",
       "    }\n",
       "\n",
       "    .dataframe thead th {\n",
       "        text-align: right;\n",
       "    }\n",
       "</style>\n",
       "<table border=\"1\" class=\"dataframe\">\n",
       "  <thead>\n",
       "    <tr style=\"text-align: right;\">\n",
       "      <th></th>\n",
       "      <th>address</th>\n",
       "    </tr>\n",
       "    <tr>\n",
       "      <th>state</th>\n",
       "      <th></th>\n",
       "    </tr>\n",
       "  </thead>\n",
       "  <tbody>\n",
       "    <tr>\n",
       "      <th>AK</th>\n",
       "      <td>19</td>\n",
       "    </tr>\n",
       "    <tr>\n",
       "      <th>AL</th>\n",
       "      <td>42</td>\n",
       "    </tr>\n",
       "    <tr>\n",
       "      <th>AR</th>\n",
       "      <td>11</td>\n",
       "    </tr>\n",
       "    <tr>\n",
       "      <th>AZ</th>\n",
       "      <td>167</td>\n",
       "    </tr>\n",
       "    <tr>\n",
       "      <th>BC</th>\n",
       "      <td>52</td>\n",
       "    </tr>\n",
       "    <tr>\n",
       "      <th>CA</th>\n",
       "      <td>1877</td>\n",
       "    </tr>\n",
       "    <tr>\n",
       "      <th>CO</th>\n",
       "      <td>148</td>\n",
       "    </tr>\n",
       "    <tr>\n",
       "      <th>CT</th>\n",
       "      <td>26</td>\n",
       "    </tr>\n",
       "    <tr>\n",
       "      <th>DC</th>\n",
       "      <td>56</td>\n",
       "    </tr>\n",
       "    <tr>\n",
       "      <th>DE</th>\n",
       "      <td>63</td>\n",
       "    </tr>\n",
       "    <tr>\n",
       "      <th>FL</th>\n",
       "      <td>863</td>\n",
       "    </tr>\n",
       "    <tr>\n",
       "      <th>GA</th>\n",
       "      <td>155</td>\n",
       "    </tr>\n",
       "    <tr>\n",
       "      <th>HI</th>\n",
       "      <td>42</td>\n",
       "    </tr>\n",
       "    <tr>\n",
       "      <th>IA</th>\n",
       "      <td>29</td>\n",
       "    </tr>\n",
       "    <tr>\n",
       "      <th>ID</th>\n",
       "      <td>18</td>\n",
       "    </tr>\n",
       "    <tr>\n",
       "      <th>IL</th>\n",
       "      <td>275</td>\n",
       "    </tr>\n",
       "    <tr>\n",
       "      <th>IN</th>\n",
       "      <td>60</td>\n",
       "    </tr>\n",
       "    <tr>\n",
       "      <th>KS</th>\n",
       "      <td>15</td>\n",
       "    </tr>\n",
       "    <tr>\n",
       "      <th>KY</th>\n",
       "      <td>71</td>\n",
       "    </tr>\n",
       "    <tr>\n",
       "      <th>LA</th>\n",
       "      <td>24</td>\n",
       "    </tr>\n",
       "    <tr>\n",
       "      <th>MA</th>\n",
       "      <td>86</td>\n",
       "    </tr>\n",
       "    <tr>\n",
       "      <th>MD</th>\n",
       "      <td>102</td>\n",
       "    </tr>\n",
       "    <tr>\n",
       "      <th>ME</th>\n",
       "      <td>34</td>\n",
       "    </tr>\n",
       "    <tr>\n",
       "      <th>MN</th>\n",
       "      <td>63</td>\n",
       "    </tr>\n",
       "    <tr>\n",
       "      <th>MO</th>\n",
       "      <td>81</td>\n",
       "    </tr>\n",
       "    <tr>\n",
       "      <th>MS</th>\n",
       "      <td>37</td>\n",
       "    </tr>\n",
       "    <tr>\n",
       "      <th>MT</th>\n",
       "      <td>13</td>\n",
       "    </tr>\n",
       "    <tr>\n",
       "      <th>NB</th>\n",
       "      <td>24</td>\n",
       "    </tr>\n",
       "    <tr>\n",
       "      <th>NC</th>\n",
       "      <td>137</td>\n",
       "    </tr>\n",
       "    <tr>\n",
       "      <th>ND</th>\n",
       "      <td>12</td>\n",
       "    </tr>\n",
       "    <tr>\n",
       "      <th>NH</th>\n",
       "      <td>12</td>\n",
       "    </tr>\n",
       "    <tr>\n",
       "      <th>NJ</th>\n",
       "      <td>202</td>\n",
       "    </tr>\n",
       "    <tr>\n",
       "      <th>NM</th>\n",
       "      <td>27</td>\n",
       "    </tr>\n",
       "    <tr>\n",
       "      <th>NV</th>\n",
       "      <td>387</td>\n",
       "    </tr>\n",
       "    <tr>\n",
       "      <th>NY</th>\n",
       "      <td>802</td>\n",
       "    </tr>\n",
       "    <tr>\n",
       "      <th>OH</th>\n",
       "      <td>241</td>\n",
       "    </tr>\n",
       "    <tr>\n",
       "      <th>OK</th>\n",
       "      <td>62</td>\n",
       "    </tr>\n",
       "    <tr>\n",
       "      <th>ON</th>\n",
       "      <td>53</td>\n",
       "    </tr>\n",
       "    <tr>\n",
       "      <th>OR</th>\n",
       "      <td>30</td>\n",
       "    </tr>\n",
       "    <tr>\n",
       "      <th>PA</th>\n",
       "      <td>161</td>\n",
       "    </tr>\n",
       "    <tr>\n",
       "      <th>PR</th>\n",
       "      <td>4</td>\n",
       "    </tr>\n",
       "    <tr>\n",
       "      <th>QC</th>\n",
       "      <td>11</td>\n",
       "    </tr>\n",
       "    <tr>\n",
       "      <th>QL</th>\n",
       "      <td>1</td>\n",
       "    </tr>\n",
       "    <tr>\n",
       "      <th>RI</th>\n",
       "      <td>24</td>\n",
       "    </tr>\n",
       "    <tr>\n",
       "      <th>SC</th>\n",
       "      <td>350</td>\n",
       "    </tr>\n",
       "    <tr>\n",
       "      <th>SD</th>\n",
       "      <td>9</td>\n",
       "    </tr>\n",
       "    <tr>\n",
       "      <th>TN</th>\n",
       "      <td>63</td>\n",
       "    </tr>\n",
       "    <tr>\n",
       "      <th>TX</th>\n",
       "      <td>913</td>\n",
       "    </tr>\n",
       "    <tr>\n",
       "      <th>UK</th>\n",
       "      <td>142</td>\n",
       "    </tr>\n",
       "    <tr>\n",
       "      <th>UT</th>\n",
       "      <td>287</td>\n",
       "    </tr>\n",
       "    <tr>\n",
       "      <th>VA</th>\n",
       "      <td>153</td>\n",
       "    </tr>\n",
       "    <tr>\n",
       "      <th>VI</th>\n",
       "      <td>23</td>\n",
       "    </tr>\n",
       "    <tr>\n",
       "      <th>VT</th>\n",
       "      <td>4</td>\n",
       "    </tr>\n",
       "    <tr>\n",
       "      <th>WA</th>\n",
       "      <td>88</td>\n",
       "    </tr>\n",
       "    <tr>\n",
       "      <th>WI</th>\n",
       "      <td>32</td>\n",
       "    </tr>\n",
       "    <tr>\n",
       "      <th>WV</th>\n",
       "      <td>10</td>\n",
       "    </tr>\n",
       "    <tr>\n",
       "      <th>WY</th>\n",
       "      <td>111</td>\n",
       "    </tr>\n",
       "  </tbody>\n",
       "</table>\n",
       "</div>"
      ],
      "text/plain": [
       "       address\n",
       "state         \n",
       "AK          19\n",
       "AL          42\n",
       "AR          11\n",
       "AZ         167\n",
       "BC          52\n",
       "CA        1877\n",
       "CO         148\n",
       "CT          26\n",
       "DC          56\n",
       "DE          63\n",
       "FL         863\n",
       "GA         155\n",
       "HI          42\n",
       "IA          29\n",
       "ID          18\n",
       "IL         275\n",
       "IN          60\n",
       "KS          15\n",
       "KY          71\n",
       "LA          24\n",
       "MA          86\n",
       "MD         102\n",
       "ME          34\n",
       "MN          63\n",
       "MO          81\n",
       "MS          37\n",
       "MT          13\n",
       "NB          24\n",
       "NC         137\n",
       "ND          12\n",
       "NH          12\n",
       "NJ         202\n",
       "NM          27\n",
       "NV         387\n",
       "NY         802\n",
       "OH         241\n",
       "OK          62\n",
       "ON          53\n",
       "OR          30\n",
       "PA         161\n",
       "PR           4\n",
       "QC          11\n",
       "QL           1\n",
       "RI          24\n",
       "SC         350\n",
       "SD           9\n",
       "TN          63\n",
       "TX         913\n",
       "UK         142\n",
       "UT         287\n",
       "VA         153\n",
       "VI          23\n",
       "VT           4\n",
       "WA          88\n",
       "WI          32\n",
       "WV          10\n",
       "WY         111"
      ]
     },
     "execution_count": 107,
     "metadata": {},
     "output_type": "execute_result"
    }
   ],
   "source": [
    "test[test.state != 'MI'][['state', 'address']].groupby('state').count()"
   ]
  },
  {
   "cell_type": "markdown",
   "metadata": {},
   "source": [
    "From careful observation, it was shown that the state which is not Michigan has almost the same address as Michigan, thus I suggest the state were all Michigan but to ensure the data is messy different state is imputed.\n",
    "And also after careful online search of cities in MI, it was discovered that there are over 1357 cities, thus it will also be discarded.\n",
    "The only feature which talks about location lat and lon will be used for the continuation of the prediction"
   ]
  },
  {
   "cell_type": "code",
   "execution_count": 108,
   "metadata": {},
   "outputs": [
    {
     "name": "stdout",
     "output_type": "stream",
     "text": [
      "Lat max, min: 44.7853893 42.145257\n",
      "Lon max: -82.51293609999999 -84.4037662\n"
     ]
    }
   ],
   "source": [
    "# Train set\n",
    "print('Lat max, min:', train.lat.max(), train.lat.min())\n",
    "print('Lon max:', train.lon.max(), train.lon.min())\n"
   ]
  },
  {
   "cell_type": "code",
   "execution_count": 109,
   "metadata": {},
   "outputs": [
    {
     "name": "stdout",
     "output_type": "stream",
     "text": [
      "Lat max: 42.5544536\n",
      "Lon max: -83.79140629999999\n"
     ]
    }
   ],
   "source": [
    "# Test set\n",
    "print('Lat max:', test.lat.max())\n",
    "print('Lon max:', test.lon.min())\n"
   ]
  },
  {
   "cell_type": "code",
   "execution_count": 110,
   "metadata": {},
   "outputs": [
    {
     "data": {
      "text/html": [
       "<div>\n",
       "<style scoped>\n",
       "    .dataframe tbody tr th:only-of-type {\n",
       "        vertical-align: middle;\n",
       "    }\n",
       "\n",
       "    .dataframe tbody tr th {\n",
       "        vertical-align: top;\n",
       "    }\n",
       "\n",
       "    .dataframe thead th {\n",
       "        text-align: right;\n",
       "    }\n",
       "</style>\n",
       "<table border=\"1\" class=\"dataframe\">\n",
       "  <thead>\n",
       "    <tr style=\"text-align: right;\">\n",
       "      <th></th>\n",
       "      <th>lat</th>\n",
       "      <th>lon</th>\n",
       "    </tr>\n",
       "  </thead>\n",
       "  <tbody>\n",
       "    <tr>\n",
       "      <th>count</th>\n",
       "      <td>159867.000000</td>\n",
       "      <td>159867.000000</td>\n",
       "    </tr>\n",
       "    <tr>\n",
       "      <th>mean</th>\n",
       "      <td>42.389746</td>\n",
       "      <td>-83.111533</td>\n",
       "    </tr>\n",
       "    <tr>\n",
       "      <th>std</th>\n",
       "      <td>0.037120</td>\n",
       "      <td>0.093513</td>\n",
       "    </tr>\n",
       "    <tr>\n",
       "      <th>min</th>\n",
       "      <td>42.145257</td>\n",
       "      <td>-84.403766</td>\n",
       "    </tr>\n",
       "    <tr>\n",
       "      <th>25%</th>\n",
       "      <td>42.364536</td>\n",
       "      <td>-83.185854</td>\n",
       "    </tr>\n",
       "    <tr>\n",
       "      <th>50%</th>\n",
       "      <td>42.392575</td>\n",
       "      <td>-83.124524</td>\n",
       "    </tr>\n",
       "    <tr>\n",
       "      <th>75%</th>\n",
       "      <td>42.419160</td>\n",
       "      <td>-83.033202</td>\n",
       "    </tr>\n",
       "    <tr>\n",
       "      <th>max</th>\n",
       "      <td>44.785389</td>\n",
       "      <td>-82.512936</td>\n",
       "    </tr>\n",
       "  </tbody>\n",
       "</table>\n",
       "</div>"
      ],
      "text/plain": [
       "                 lat            lon\n",
       "count  159867.000000  159867.000000\n",
       "mean       42.389746     -83.111533\n",
       "std         0.037120       0.093513\n",
       "min        42.145257     -84.403766\n",
       "25%        42.364536     -83.185854\n",
       "50%        42.392575     -83.124524\n",
       "75%        42.419160     -83.033202\n",
       "max        44.785389     -82.512936"
      ]
     },
     "execution_count": 110,
     "metadata": {},
     "output_type": "execute_result"
    }
   ],
   "source": [
    "train[['lat', 'lon']].describe()"
   ]
  },
  {
   "cell_type": "code",
   "execution_count": 111,
   "metadata": {},
   "outputs": [],
   "source": [
    "train = train[train.lat < 44.5]"
   ]
  },
  {
   "cell_type": "code",
   "execution_count": 112,
   "metadata": {},
   "outputs": [
    {
     "data": {
      "text/html": [
       "<div>\n",
       "<style scoped>\n",
       "    .dataframe tbody tr th:only-of-type {\n",
       "        vertical-align: middle;\n",
       "    }\n",
       "\n",
       "    .dataframe tbody tr th {\n",
       "        vertical-align: top;\n",
       "    }\n",
       "\n",
       "    .dataframe thead th {\n",
       "        text-align: right;\n",
       "    }\n",
       "</style>\n",
       "<table border=\"1\" class=\"dataframe\">\n",
       "  <thead>\n",
       "    <tr style=\"text-align: right;\">\n",
       "      <th></th>\n",
       "      <th>lat</th>\n",
       "      <th>lon</th>\n",
       "    </tr>\n",
       "  </thead>\n",
       "  <tbody>\n",
       "    <tr>\n",
       "      <th>count</th>\n",
       "      <td>159866.000000</td>\n",
       "      <td>159866.000000</td>\n",
       "    </tr>\n",
       "    <tr>\n",
       "      <th>mean</th>\n",
       "      <td>42.389731</td>\n",
       "      <td>-83.111531</td>\n",
       "    </tr>\n",
       "    <tr>\n",
       "      <th>std</th>\n",
       "      <td>0.036634</td>\n",
       "      <td>0.093508</td>\n",
       "    </tr>\n",
       "    <tr>\n",
       "      <th>min</th>\n",
       "      <td>42.145257</td>\n",
       "      <td>-84.403766</td>\n",
       "    </tr>\n",
       "    <tr>\n",
       "      <th>25%</th>\n",
       "      <td>42.364536</td>\n",
       "      <td>-83.185853</td>\n",
       "    </tr>\n",
       "    <tr>\n",
       "      <th>50%</th>\n",
       "      <td>42.392575</td>\n",
       "      <td>-83.124524</td>\n",
       "    </tr>\n",
       "    <tr>\n",
       "      <th>75%</th>\n",
       "      <td>42.419160</td>\n",
       "      <td>-83.033202</td>\n",
       "    </tr>\n",
       "    <tr>\n",
       "      <th>max</th>\n",
       "      <td>42.904052</td>\n",
       "      <td>-82.512936</td>\n",
       "    </tr>\n",
       "  </tbody>\n",
       "</table>\n",
       "</div>"
      ],
      "text/plain": [
       "                 lat            lon\n",
       "count  159866.000000  159866.000000\n",
       "mean       42.389731     -83.111531\n",
       "std         0.036634       0.093508\n",
       "min        42.145257     -84.403766\n",
       "25%        42.364536     -83.185853\n",
       "50%        42.392575     -83.124524\n",
       "75%        42.419160     -83.033202\n",
       "max        42.904052     -82.512936"
      ]
     },
     "execution_count": 112,
     "metadata": {},
     "output_type": "execute_result"
    }
   ],
   "source": [
    "train[['lat', 'lon']].describe()"
   ]
  },
  {
   "cell_type": "code",
   "execution_count": 113,
   "metadata": {},
   "outputs": [
    {
     "data": {
      "text/html": [
       "<div>\n",
       "<style scoped>\n",
       "    .dataframe tbody tr th:only-of-type {\n",
       "        vertical-align: middle;\n",
       "    }\n",
       "\n",
       "    .dataframe tbody tr th {\n",
       "        vertical-align: top;\n",
       "    }\n",
       "\n",
       "    .dataframe thead th {\n",
       "        text-align: right;\n",
       "    }\n",
       "</style>\n",
       "<table border=\"1\" class=\"dataframe\">\n",
       "  <thead>\n",
       "    <tr style=\"text-align: right;\">\n",
       "      <th></th>\n",
       "      <th>ticket_id</th>\n",
       "      <th>agency_name</th>\n",
       "      <th>inspector_name</th>\n",
       "      <th>violator_name</th>\n",
       "      <th>violation_street_number</th>\n",
       "      <th>violation_street_name</th>\n",
       "      <th>violation_zip_code</th>\n",
       "      <th>mailing_address_str_number</th>\n",
       "      <th>mailing_address_str_name</th>\n",
       "      <th>city</th>\n",
       "      <th>...</th>\n",
       "      <th>state_fee</th>\n",
       "      <th>late_fee</th>\n",
       "      <th>discount_amount</th>\n",
       "      <th>clean_up_cost</th>\n",
       "      <th>judgment_amount</th>\n",
       "      <th>grafitti_status</th>\n",
       "      <th>compliance</th>\n",
       "      <th>address</th>\n",
       "      <th>lat</th>\n",
       "      <th>lon</th>\n",
       "    </tr>\n",
       "  </thead>\n",
       "  <tbody>\n",
       "    <tr>\n",
       "      <th>150851</th>\n",
       "      <td>108904</td>\n",
       "      <td>Buildings, Safety Engineering &amp; Env Department</td>\n",
       "      <td>Legge, Gerald</td>\n",
       "      <td>OLIVER, MATTIE</td>\n",
       "      <td>4817.0</td>\n",
       "      <td>GRATIOT</td>\n",
       "      <td>NaN</td>\n",
       "      <td>6646.0</td>\n",
       "      <td>SEMINOLE</td>\n",
       "      <td>DETROIT</td>\n",
       "      <td>...</td>\n",
       "      <td>10.0</td>\n",
       "      <td>25.0</td>\n",
       "      <td>0.0</td>\n",
       "      <td>0.0</td>\n",
       "      <td>305.0</td>\n",
       "      <td>NaN</td>\n",
       "      <td>0.0</td>\n",
       "      <td>4817 gratiot, Detroit MI</td>\n",
       "      <td>42.904052</td>\n",
       "      <td>-82.512936</td>\n",
       "    </tr>\n",
       "  </tbody>\n",
       "</table>\n",
       "<p>1 rows × 31 columns</p>\n",
       "</div>"
      ],
      "text/plain": [
       "        ticket_id                                     agency_name  \\\n",
       "150851     108904  Buildings, Safety Engineering & Env Department   \n",
       "\n",
       "       inspector_name   violator_name  violation_street_number  \\\n",
       "150851  Legge, Gerald  OLIVER, MATTIE                   4817.0   \n",
       "\n",
       "       violation_street_name  violation_zip_code  mailing_address_str_number  \\\n",
       "150851               GRATIOT                 NaN                      6646.0   \n",
       "\n",
       "       mailing_address_str_name     city  ... state_fee late_fee  \\\n",
       "150851                 SEMINOLE  DETROIT  ...      10.0     25.0   \n",
       "\n",
       "       discount_amount clean_up_cost judgment_amount grafitti_status  \\\n",
       "150851             0.0           0.0           305.0             NaN   \n",
       "\n",
       "       compliance                   address        lat        lon  \n",
       "150851        0.0  4817 gratiot, Detroit MI  42.904052 -82.512936  \n",
       "\n",
       "[1 rows x 31 columns]"
      ]
     },
     "execution_count": 113,
     "metadata": {},
     "output_type": "execute_result"
    }
   ],
   "source": [
    "train[train.lon > -82.7]"
   ]
  },
  {
   "cell_type": "code",
   "execution_count": 114,
   "metadata": {},
   "outputs": [
    {
     "data": {
      "text/plain": [
       "<matplotlib.axes._subplots.AxesSubplot at 0x19a06df7550>"
      ]
     },
     "execution_count": 114,
     "metadata": {},
     "output_type": "execute_result"
    },
    {
     "data": {
      "image/png": "[encoded data removed]",
      "text/plain": [
       "<Figure size 432x288 with 1 Axes>"
      ]
     },
     "metadata": {
      "needs_background": "light"
     },
     "output_type": "display_data"
    }
   ],
   "source": [
    "sns.scatterplot(x=train.lon, y = train.lat)"
   ]
  },
  {
   "cell_type": "code",
   "execution_count": 115,
   "metadata": {},
   "outputs": [],
   "source": [
    "train = train[~((train.lon < -84.0) | (train.lon > -82.7))]"
   ]
  },
  {
   "cell_type": "code",
   "execution_count": 116,
   "metadata": {},
   "outputs": [
    {
     "data": {
      "text/plain": [
       "<matplotlib.axes._subplots.AxesSubplot at 0x19a011c5908>"
      ]
     },
     "execution_count": 116,
     "metadata": {},
     "output_type": "execute_result"
    },
    {
     "data": {
      "image/png": "[encoded data removed]",
      "text/plain": [
       "<Figure size 432x288 with 1 Axes>"
      ]
     },
     "metadata": {
      "needs_background": "light"
     },
     "output_type": "display_data"
    }
   ],
   "source": [
    "sns.scatterplot(x=train.lon, y = train.lat)"
   ]
  },
  {
   "cell_type": "code",
   "execution_count": 117,
   "metadata": {},
   "outputs": [
    {
     "data": {
      "text/plain": [
       "Index(['ticket_id', 'agency_name', 'inspector_name', 'violator_name',\n",
       "       'violation_street_number', 'violation_street_name',\n",
       "       'violation_zip_code', 'mailing_address_str_number',\n",
       "       'mailing_address_str_name', 'city', 'state', 'zip_code',\n",
       "       'non_us_str_code', 'country', 'ticket_issued_date', 'hearing_date',\n",
       "       'violation_code', 'violation_description', 'disposition', 'fine_amount',\n",
       "       'admin_fee', 'state_fee', 'late_fee', 'discount_amount',\n",
       "       'clean_up_cost', 'judgment_amount', 'grafitti_status', 'compliance',\n",
       "       'address', 'lat', 'lon'],\n",
       "      dtype='object')"
      ]
     },
     "execution_count": 117,
     "metadata": {},
     "output_type": "execute_result"
    }
   ],
   "source": [
    "train.columns"
   ]
  },
  {
   "cell_type": "markdown",
   "metadata": {},
   "source": [
    "## Removing features from both the test and train set"
   ]
  },
  {
   "cell_type": "code",
   "execution_count": 118,
   "metadata": {},
   "outputs": [],
   "source": [
    "Features_to_be_removed = ['mailing_address_str_name', 'violation_description','address', 'grafitti_status','violation_street_number', 'violation_street_name',\n",
    "                         'inspector_name', 'violator_name', 'violation_zip_code', 'mailing_address_str_number','non_us_str_code', 'country', 'ticket_issued_date', 'hearing_date', 'city', 'state', 'zip_code']\n"
   ]
  },
  {
   "cell_type": "code",
   "execution_count": 119,
   "metadata": {},
   "outputs": [],
   "source": [
    "train.drop(Features_to_be_removed, axis =1, inplace = True)\n",
    "\n"
   ]
  },
  {
   "cell_type": "code",
   "execution_count": 120,
   "metadata": {},
   "outputs": [
    {
     "data": {
      "text/plain": [
       "14"
      ]
     },
     "execution_count": 120,
     "metadata": {},
     "output_type": "execute_result"
    }
   ],
   "source": [
    "len(train.columns)"
   ]
  },
  {
   "cell_type": "code",
   "execution_count": 121,
   "metadata": {},
   "outputs": [],
   "source": [
    "train.drop('ticket_id', axis =1 , inplace= True)"
   ]
  },
  {
   "cell_type": "code",
   "execution_count": 122,
   "metadata": {},
   "outputs": [
    {
     "data": {
      "text/plain": [
       "Index(['agency_name', 'violation_code', 'disposition', 'fine_amount',\n",
       "       'admin_fee', 'state_fee', 'late_fee', 'discount_amount',\n",
       "       'clean_up_cost', 'judgment_amount', 'compliance', 'lat', 'lon'],\n",
       "      dtype='object')"
      ]
     },
     "execution_count": 122,
     "metadata": {},
     "output_type": "execute_result"
    }
   ],
   "source": [
    "train.columns"
   ]
  },
  {
   "cell_type": "code",
   "execution_count": 123,
   "metadata": {},
   "outputs": [],
   "source": [
    "test.drop(Features_to_be_removed, axis = 1, inplace=True)"
   ]
  },
  {
   "cell_type": "code",
   "execution_count": 124,
   "metadata": {},
   "outputs": [
    {
     "data": {
      "text/plain": [
       "Index(['ticket_id', 'agency_name', 'violation_code', 'disposition',\n",
       "       'fine_amount', 'admin_fee', 'state_fee', 'late_fee', 'discount_amount',\n",
       "       'clean_up_cost', 'judgment_amount', 'lat', 'lon'],\n",
       "      dtype='object')"
      ]
     },
     "execution_count": 124,
     "metadata": {},
     "output_type": "execute_result"
    }
   ],
   "source": [
    "test.columns"
   ]
  },
  {
   "cell_type": "code",
   "execution_count": 125,
   "metadata": {},
   "outputs": [],
   "source": [
    "ticket_ID = test.ticket_id"
   ]
  },
  {
   "cell_type": "code",
   "execution_count": 126,
   "metadata": {},
   "outputs": [],
   "source": [
    "test.drop('ticket_id', axis =1 , inplace= True)"
   ]
  },
  {
   "cell_type": "code",
   "execution_count": 127,
   "metadata": {},
   "outputs": [
    {
     "data": {
      "text/plain": [
       "12"
      ]
     },
     "execution_count": 127,
     "metadata": {},
     "output_type": "execute_result"
    }
   ],
   "source": [
    "len(test.columns)"
   ]
  },
  {
   "cell_type": "code",
   "execution_count": 128,
   "metadata": {},
   "outputs": [
    {
     "data": {
      "text/plain": [
       "13"
      ]
     },
     "execution_count": 128,
     "metadata": {},
     "output_type": "execute_result"
    }
   ],
   "source": [
    "len(train.columns)"
   ]
  },
  {
   "cell_type": "markdown",
   "metadata": {},
   "source": [
    "## Encoding the Categorical Variables"
   ]
  },
  {
   "cell_type": "code",
   "execution_count": 129,
   "metadata": {},
   "outputs": [
    {
     "data": {
      "text/html": [
       "<div>\n",
       "<style scoped>\n",
       "    .dataframe tbody tr th:only-of-type {\n",
       "        vertical-align: middle;\n",
       "    }\n",
       "\n",
       "    .dataframe tbody tr th {\n",
       "        vertical-align: top;\n",
       "    }\n",
       "\n",
       "    .dataframe thead th {\n",
       "        text-align: right;\n",
       "    }\n",
       "</style>\n",
       "<table border=\"1\" class=\"dataframe\">\n",
       "  <thead>\n",
       "    <tr style=\"text-align: right;\">\n",
       "      <th></th>\n",
       "      <th>Features</th>\n",
       "      <th>No of Unique variables</th>\n",
       "    </tr>\n",
       "  </thead>\n",
       "  <tbody>\n",
       "    <tr>\n",
       "      <th>1</th>\n",
       "      <td>violation_code</td>\n",
       "      <td>189</td>\n",
       "    </tr>\n",
       "    <tr>\n",
       "      <th>0</th>\n",
       "      <td>agency_name</td>\n",
       "      <td>5</td>\n",
       "    </tr>\n",
       "    <tr>\n",
       "      <th>2</th>\n",
       "      <td>disposition</td>\n",
       "      <td>4</td>\n",
       "    </tr>\n",
       "  </tbody>\n",
       "</table>\n",
       "</div>"
      ],
      "text/plain": [
       "         Features  No of Unique variables\n",
       "1  violation_code                     189\n",
       "0     agency_name                       5\n",
       "2     disposition                       4"
      ]
     },
     "execution_count": 129,
     "metadata": {},
     "output_type": "execute_result"
    }
   ],
   "source": [
    "unique_feature(train)"
   ]
  },
  {
   "cell_type": "code",
   "execution_count": 130,
   "metadata": {},
   "outputs": [
    {
     "data": {
      "text/html": [
       "<div>\n",
       "<style scoped>\n",
       "    .dataframe tbody tr th:only-of-type {\n",
       "        vertical-align: middle;\n",
       "    }\n",
       "\n",
       "    .dataframe tbody tr th {\n",
       "        vertical-align: top;\n",
       "    }\n",
       "\n",
       "    .dataframe thead th {\n",
       "        text-align: right;\n",
       "    }\n",
       "</style>\n",
       "<table border=\"1\" class=\"dataframe\">\n",
       "  <thead>\n",
       "    <tr style=\"text-align: right;\">\n",
       "      <th></th>\n",
       "      <th>Features</th>\n",
       "      <th>No of Unique variables</th>\n",
       "    </tr>\n",
       "  </thead>\n",
       "  <tbody>\n",
       "    <tr>\n",
       "      <th>1</th>\n",
       "      <td>violation_code</td>\n",
       "      <td>151</td>\n",
       "    </tr>\n",
       "    <tr>\n",
       "      <th>2</th>\n",
       "      <td>disposition</td>\n",
       "      <td>8</td>\n",
       "    </tr>\n",
       "    <tr>\n",
       "      <th>0</th>\n",
       "      <td>agency_name</td>\n",
       "      <td>3</td>\n",
       "    </tr>\n",
       "  </tbody>\n",
       "</table>\n",
       "</div>"
      ],
      "text/plain": [
       "         Features  No of Unique variables\n",
       "1  violation_code                     151\n",
       "2     disposition                       8\n",
       "0     agency_name                       3"
      ]
     },
     "execution_count": 130,
     "metadata": {},
     "output_type": "execute_result"
    }
   ],
   "source": [
    "unique_feature(test)"
   ]
  },
  {
   "cell_type": "code",
   "execution_count": 131,
   "metadata": {},
   "outputs": [
    {
     "name": "stdout",
     "output_type": "stream",
     "text": [
      "Train Agency name:\n",
      " Buildings, Safety Engineering & Env Department    95858\n",
      "Department of Public Works                        52433\n",
      "Health Department                                  7107\n",
      "Detroit Police Department                          4464\n",
      "Neighborhood City Halls                               1\n",
      "Name: agency_name, dtype: int64\n",
      "\n",
      "Test Agency name:\n",
      " Department of Public Works                        40731\n",
      "Buildings, Safety Engineering & Env Department    16832\n",
      "Detroit Police Department                          3438\n",
      "Name: agency_name, dtype: int64\n"
     ]
    }
   ],
   "source": [
    "## Agency name\n",
    "print('Train Agency name:\\n',train.agency_name.value_counts())\n",
    "print('\\nTest Agency name:\\n',test.agency_name.value_counts())"
   ]
  },
  {
   "cell_type": "code",
   "execution_count": 132,
   "metadata": {},
   "outputs": [
    {
     "name": "stdout",
     "output_type": "stream",
     "text": [
      "Train Disposition:\n",
      " Responsible by Default                138325\n",
      "Responsible by Admission               13699\n",
      "Responsible by Determination            7644\n",
      "Responsible (Fine Waived) by Deter       195\n",
      "Name: disposition, dtype: int64\n",
      "\n",
      "Test Disposition:\n",
      " Responsible by Default                51602\n",
      "Responsible by Admission               4484\n",
      "Responsible by Determination           4124\n",
      "Responsible (Fine Waived) by Deter      781\n",
      "Responsible - Compl/Adj by Default        6\n",
      "Responsible - Compl/Adj by Determi        2\n",
      "Responsible by Dismissal                  1\n",
      "Responsible (Fine Waived) by Admis        1\n",
      "Name: disposition, dtype: int64\n"
     ]
    }
   ],
   "source": [
    "# Disposition \n",
    "print('Train Disposition:\\n',train.disposition.value_counts())\n",
    "print('\\nTest Disposition:\\n',test.disposition.value_counts())"
   ]
  },
  {
   "cell_type": "code",
   "execution_count": 133,
   "metadata": {},
   "outputs": [
    {
     "data": {
      "text/plain": [
       "Responsible by Default                51608\n",
       "Responsible by Admission               4484\n",
       "Responsible by Determination           4126\n",
       "Responsible (Fine Waived) by Deter      782\n",
       "Responsible by Dismissal                  1\n",
       "Name: disposition, dtype: int64"
      ]
     },
     "execution_count": 133,
     "metadata": {},
     "output_type": "execute_result"
    }
   ],
   "source": [
    "test.disposition.replace('Responsible - Compl/Adj by Default', 'Responsible by Default', inplace = True)\n",
    "test.disposition.replace('Responsible - Compl/Adj by Determi', 'Responsible by Determination', inplace = True)\n",
    "test.disposition.replace('Responsible (Fine Waived) by Admis', 'Responsible (Fine Waived) by Deter', inplace= True)\n",
    "test.disposition.value_counts()"
   ]
  },
  {
   "cell_type": "markdown",
   "metadata": {},
   "source": [
    "### Dealing with Violation code"
   ]
  },
  {
   "cell_type": "code",
   "execution_count": 134,
   "metadata": {},
   "outputs": [
    {
     "data": {
      "text/plain": [
       "9-1-36(a)              64410\n",
       "9-1-81(a)              23144\n",
       "22-2-88                19073\n",
       "9-1-104                16920\n",
       "22-2-88(b)              4877\n",
       "                       ...  \n",
       "22-2-85                    1\n",
       "61-118.0100/32.0066        1\n",
       "9-1-310                    1\n",
       "61-4-35                    1\n",
       "61-120.0100/32.0066        1\n",
       "Name: violation_code, Length: 189, dtype: int64"
      ]
     },
     "execution_count": 134,
     "metadata": {},
     "output_type": "execute_result"
    }
   ],
   "source": [
    "train.violation_code.value_counts()"
   ]
  },
  {
   "cell_type": "code",
   "execution_count": 135,
   "metadata": {},
   "outputs": [
    {
     "data": {
      "text/plain": [
       "145"
      ]
     },
     "execution_count": 135,
     "metadata": {},
     "output_type": "execute_result"
    }
   ],
   "source": [
    "violation_code_stats = train.groupby('violation_code')['violation_code'].agg('count').sort_values(ascending = False)\n",
    "violation_code_stats_less_than_50 =violation_code_stats[violation_code_stats <50]\n",
    "len(violation_code_stats_less_than_50)"
   ]
  },
  {
   "cell_type": "code",
   "execution_count": 136,
   "metadata": {},
   "outputs": [
    {
     "data": {
      "text/plain": [
       "116"
      ]
     },
     "execution_count": 136,
     "metadata": {},
     "output_type": "execute_result"
    }
   ],
   "source": [
    "violation_code_test = test.groupby('violation_code')['violation_code'].agg('count').sort_values(ascending = False)\n",
    "violation_code_test_less_than_50 =violation_code_test[violation_code_test <50]\n",
    "len(violation_code_test_less_than_50)"
   ]
  },
  {
   "cell_type": "code",
   "execution_count": 137,
   "metadata": {},
   "outputs": [],
   "source": [
    "train.violation_code = train.violation_code.apply(lambda x: 'others' if x in violation_code_stats_less_than_50 else x)\n",
    "test.violation_code = test.violation_code.apply(lambda x: 'others' if x in violation_code_test_less_than_50 else x)"
   ]
  },
  {
   "cell_type": "code",
   "execution_count": 138,
   "metadata": {},
   "outputs": [
    {
     "data": {
      "text/plain": [
       "Index(['agency_name', 'violation_code', 'disposition'], dtype='object')"
      ]
     },
     "execution_count": 138,
     "metadata": {},
     "output_type": "execute_result"
    }
   ],
   "source": [
    "cat_feat = train.select_dtypes(include=[np.object]).columns\n",
    "cat_feat"
   ]
  },
  {
   "cell_type": "code",
   "execution_count": 139,
   "metadata": {},
   "outputs": [],
   "source": [
    "from sklearn.preprocessing import OneHotEncoder\n",
    "ohe = OneHotEncoder(handle_unknown= 'ignore')"
   ]
  },
  {
   "cell_type": "code",
   "execution_count": 140,
   "metadata": {},
   "outputs": [],
   "source": [
    "from sklearn.model_selection import train_test_split\n",
    "X = train.drop('compliance', axis = 1)\n",
    "y = train.compliance.values"
   ]
  },
  {
   "cell_type": "code",
   "execution_count": 141,
   "metadata": {},
   "outputs": [
    {
     "name": "stdout",
     "output_type": "stream",
     "text": [
      "The selected dataset has 13 columns and 159863 rows.\n",
      "There are 0 columns that have missing values.\n"
     ]
    },
    {
     "data": {
      "text/html": [
       "<div>\n",
       "<style scoped>\n",
       "    .dataframe tbody tr th:only-of-type {\n",
       "        vertical-align: middle;\n",
       "    }\n",
       "\n",
       "    .dataframe tbody tr th {\n",
       "        vertical-align: top;\n",
       "    }\n",
       "\n",
       "    .dataframe thead th {\n",
       "        text-align: right;\n",
       "    }\n",
       "</style>\n",
       "<table border=\"1\" class=\"dataframe\">\n",
       "  <thead>\n",
       "    <tr style=\"text-align: right;\">\n",
       "      <th></th>\n",
       "      <th>Missing Values</th>\n",
       "      <th>% of Total values</th>\n",
       "    </tr>\n",
       "  </thead>\n",
       "  <tbody>\n",
       "  </tbody>\n",
       "</table>\n",
       "</div>"
      ],
      "text/plain": [
       "Empty DataFrame\n",
       "Columns: [Missing Values, % of Total values]\n",
       "Index: []"
      ]
     },
     "execution_count": 141,
     "metadata": {},
     "output_type": "execute_result"
    }
   ],
   "source": [
    "missing_values(train)"
   ]
  },
  {
   "cell_type": "code",
   "execution_count": 142,
   "metadata": {},
   "outputs": [
    {
     "name": "stdout",
     "output_type": "stream",
     "text": [
      "The selected dataset has 12 columns and 61001 rows.\n",
      "There are 2 columns that have missing values.\n"
     ]
    },
    {
     "data": {
      "text/html": [
       "<div>\n",
       "<style scoped>\n",
       "    .dataframe tbody tr th:only-of-type {\n",
       "        vertical-align: middle;\n",
       "    }\n",
       "\n",
       "    .dataframe tbody tr th {\n",
       "        vertical-align: top;\n",
       "    }\n",
       "\n",
       "    .dataframe thead th {\n",
       "        text-align: right;\n",
       "    }\n",
       "</style>\n",
       "<table border=\"1\" class=\"dataframe\">\n",
       "  <thead>\n",
       "    <tr style=\"text-align: right;\">\n",
       "      <th></th>\n",
       "      <th>Missing Values</th>\n",
       "      <th>% of Total values</th>\n",
       "    </tr>\n",
       "  </thead>\n",
       "  <tbody>\n",
       "    <tr>\n",
       "      <th>lat</th>\n",
       "      <td>5</td>\n",
       "      <td>0.01</td>\n",
       "    </tr>\n",
       "    <tr>\n",
       "      <th>lon</th>\n",
       "      <td>5</td>\n",
       "      <td>0.01</td>\n",
       "    </tr>\n",
       "  </tbody>\n",
       "</table>\n",
       "</div>"
      ],
      "text/plain": [
       "     Missing Values  % of Total values\n",
       "lat               5               0.01\n",
       "lon               5               0.01"
      ]
     },
     "execution_count": 142,
     "metadata": {},
     "output_type": "execute_result"
    }
   ],
   "source": [
    "missing_values(test)"
   ]
  },
  {
   "cell_type": "code",
   "execution_count": 143,
   "metadata": {},
   "outputs": [],
   "source": [
    "test.lat = test.lat.fillna(np.mean(test.lat))\n",
    "test.lon = test.lon.fillna(np.mean(test.lon))"
   ]
  },
  {
   "cell_type": "code",
   "execution_count": 144,
   "metadata": {},
   "outputs": [
    {
     "name": "stdout",
     "output_type": "stream",
     "text": [
      "The selected dataset has 12 columns and 61001 rows.\n",
      "There are 0 columns that have missing values.\n"
     ]
    },
    {
     "data": {
      "text/html": [
       "<div>\n",
       "<style scoped>\n",
       "    .dataframe tbody tr th:only-of-type {\n",
       "        vertical-align: middle;\n",
       "    }\n",
       "\n",
       "    .dataframe tbody tr th {\n",
       "        vertical-align: top;\n",
       "    }\n",
       "\n",
       "    .dataframe thead th {\n",
       "        text-align: right;\n",
       "    }\n",
       "</style>\n",
       "<table border=\"1\" class=\"dataframe\">\n",
       "  <thead>\n",
       "    <tr style=\"text-align: right;\">\n",
       "      <th></th>\n",
       "      <th>Missing Values</th>\n",
       "      <th>% of Total values</th>\n",
       "    </tr>\n",
       "  </thead>\n",
       "  <tbody>\n",
       "  </tbody>\n",
       "</table>\n",
       "</div>"
      ],
      "text/plain": [
       "Empty DataFrame\n",
       "Columns: [Missing Values, % of Total values]\n",
       "Index: []"
      ]
     },
     "execution_count": 144,
     "metadata": {},
     "output_type": "execute_result"
    }
   ],
   "source": [
    "missing_values(test)"
   ]
  },
  {
   "cell_type": "code",
   "execution_count": 145,
   "metadata": {},
   "outputs": [],
   "source": [
    "valid = test.copy()"
   ]
  },
  {
   "cell_type": "code",
   "execution_count": 146,
   "metadata": {},
   "outputs": [],
   "source": [
    "ohe.fit(X[cat_feat])\n",
    "X = ohe.transform(X[cat_feat]).toarray()\n",
    "valid = ohe.transform(valid[cat_feat]).toarray()"
   ]
  },
  {
   "cell_type": "code",
   "execution_count": 147,
   "metadata": {},
   "outputs": [
    {
     "data": {
      "text/plain": [
       "array([[0., 1., 0., ..., 0., 1., 0.],\n",
       "       [0., 1., 0., ..., 0., 1., 0.],\n",
       "       [0., 1., 0., ..., 0., 1., 0.],\n",
       "       ...,\n",
       "       [0., 0., 1., ..., 0., 1., 0.],\n",
       "       [0., 0., 1., ..., 0., 1., 0.],\n",
       "       [0., 1., 0., ..., 0., 1., 0.]])"
      ]
     },
     "execution_count": 147,
     "metadata": {},
     "output_type": "execute_result"
    }
   ],
   "source": [
    "valid"
   ]
  },
  {
   "cell_type": "code",
   "execution_count": 148,
   "metadata": {},
   "outputs": [
    {
     "data": {
      "text/plain": [
       "(159863, 54)"
      ]
     },
     "execution_count": 148,
     "metadata": {},
     "output_type": "execute_result"
    }
   ],
   "source": [
    "X.shape"
   ]
  },
  {
   "cell_type": "code",
   "execution_count": 149,
   "metadata": {},
   "outputs": [
    {
     "data": {
      "text/plain": [
       "(61001, 54)"
      ]
     },
     "execution_count": 149,
     "metadata": {},
     "output_type": "execute_result"
    }
   ],
   "source": [
    "valid.shape"
   ]
  },
  {
   "cell_type": "code",
   "execution_count": 151,
   "metadata": {},
   "outputs": [],
   "source": [
    "from sklearn.preprocessing import KBinsDiscretizer,PowerTransformer,MinMaxScaler\n",
    "from sklearn.feature_selection import mutual_info_classif, SelectKBest, chi2\n",
    "from sklearn.feature_selection import RFE, RFECV\n",
    "from sklearn.model_selection import StratifiedKFold, KFold, RepeatedStratifiedKFold, GridSearchCV, RandomizedSearchCV\n",
    "from sklearn.model_selection import train_test_split, cross_val_score\n",
    "from sklearn.ensemble import GradientBoostingClassifier, RandomForestClassifier, ExtraTreesClassifier\n",
    "from sklearn.tree import DecisionTreeClassifier\n",
    "from sklearn.svm import LinearSVC, SVC\n",
    "from sklearn.linear_model import LogisticRegression\n",
    "from sklearn.neighbors import KNeighborsClassifier\n",
    "from sklearn.metrics import roc_auc_score"
   ]
  },
  {
   "cell_type": "markdown",
   "metadata": {},
   "source": [
    "## Running the base Model"
   ]
  },
  {
   "cell_type": "code",
   "execution_count": 152,
   "metadata": {},
   "outputs": [
    {
     "name": "stdout",
     "output_type": "stream",
     "text": [
      "RF: 0.774028 (0.005898)\n",
      "RF Test ROC_AUC results: 0.7697166183313132\n",
      "LR: 0.771313 (0.005695)\n",
      "LR Test ROC_AUC results: 0.7667260751074803\n",
      "Tree: 0.774349 (0.005827)\n",
      "Tree Test ROC_AUC results: 0.7695147194046957\n",
      "EE: 0.774445 (0.005866)\n",
      "EE Test ROC_AUC results: 0.7694905237323579\n",
      "GBR: 0.775858 (0.005760)\n",
      "GBR Test ROC_AUC results: 0.770314623679171\n"
     ]
    }
   ],
   "source": [
    "X_train, X_test, y_train, y_test = train_test_split(X, y, random_stae = 42,stratify = y )\n",
    "scalar = MinMaxScaler()\n",
    "X_train_scaled = scalar.fit_transform(X_train)\n",
    "X_test_scaled = scalar.transform(X_test)\n",
    "seed = 445\n",
    "models = []\n",
    "models.append(('RF', RandomForestClassifier(class_weight= {0: 1, 1:13}, random_state= 4332, n_jobs = -1)))\n",
    "models.append(('LR', LogisticRegression(class_weight = {0: 0.05, 1:0.95}, C = 10,  n_jobs = -1)))\n",
    "models.append(('Tree', DecisionTreeClassifier()))\n",
    "models.append(('EE', ExtraTreesClassifier()))\n",
    "models.append(('GBR', GradientBoostingClassifier()))\n",
    "results = []\n",
    "names = []\n",
    "for name, model in models:\n",
    "    kfold = RepeatedStratifiedKFold(n_splits=5, random_state=seed)\n",
    "    cv_results = cross_val_score(model, X_train_scaled, y_train, cv=kfold, scoring='roc_auc',  n_jobs = -1)\n",
    "    results.append(cv_results)\n",
    "    names.append(name)\n",
    "    msg = \"%s: %f (%f)\" % (name, cv_results.mean(), cv_results.std())\n",
    "    print(msg)\n",
    "    model.fit(X_train_scaled, y_train)\n",
    "    y_pred = model.predict_proba(X_test_scaled)[:, 1]\n",
    "    print('{} Test ROC_AUC results: {}'.format(name, roc_auc_score(y_test, y_pred)))"
   ]
  },
  {
   "cell_type": "markdown",
   "metadata": {},
   "source": [
    "## Tune the hyperparamater of the best two model"
   ]
  },
  {
   "cell_type": "code",
   "execution_count": 153,
   "metadata": {},
   "outputs": [
    {
     "data": {
      "text/plain": [
       "GradientBoostingClassifier()"
      ]
     },
     "execution_count": 153,
     "metadata": {},
     "output_type": "execute_result"
    }
   ],
   "source": []
  },
  {
   "cell_type": "code",
   "execution_count": 157,
   "metadata": {},
   "outputs": [
    {
     "data": {
      "text/plain": [
       "11595"
      ]
     },
     "execution_count": 157,
     "metadata": {},
     "output_type": "execute_result"
    }
   ],
   "source": [
    "train.compliance.value_counts()[1]"
   ]
  },
  {
   "cell_type": "code",
   "execution_count": 161,
   "metadata": {},
   "outputs": [
    {
     "data": {
      "text/plain": [
       "12.78723587753342"
      ]
     },
     "execution_count": 161,
     "metadata": {},
     "output_type": "execute_result"
    }
   ],
   "source": [
    "weight = (train.compliance.value_counts()[0]) / (train.compliance.value_counts()[1])\n",
    "weight"
   ]
  },
  {
   "cell_type": "code",
   "execution_count": null,
   "metadata": {},
   "outputs": [],
   "source": [
    " 'learning_rate':[0.01, 0.05, 0.1], 'subsample': [0.8, 1.0], 'n_estimators':[100, 200, 300], 'max_features':[8, 9, 10]"
   ]
  },
  {
   "cell_type": "code",
   "execution_count": null,
   "metadata": {},
   "outputs": [],
   "source": []
  },
  {
   "cell_type": "code",
   "execution_count": null,
   "metadata": {},
   "outputs": [],
   "source": [
    "## Gradient_boosting\n",
    "seed = 455\n",
    "kfold =RepeatedStratifiedKFold(n_splits=10, random_state=seed)\n",
    "gsc = GridSearchCV(\n",
    "        estimator = GradientBoostingClassifier(random_state = seed),\n",
    "        param_grid= {'max_depth':[3, 6, 8]},\n",
    "        scoring = 'roc_auc', n_jobs = -1, cv = kfold)\n",
    "grid_result =gsc.fit(X_train, y_train)\n",
    "print('Best parameters: {}'.format(grid_result.best_params_))"
   ]
  },
  {
   "cell_type": "code",
   "execution_count": 165,
   "metadata": {},
   "outputs": [
    {
     "data": {
      "text/html": [
       "<div>\n",
       "<style scoped>\n",
       "    .dataframe tbody tr th:only-of-type {\n",
       "        vertical-align: middle;\n",
       "    }\n",
       "\n",
       "    .dataframe tbody tr th {\n",
       "        vertical-align: top;\n",
       "    }\n",
       "\n",
       "    .dataframe thead th {\n",
       "        text-align: right;\n",
       "    }\n",
       "</style>\n",
       "<table border=\"1\" class=\"dataframe\">\n",
       "  <thead>\n",
       "    <tr style=\"text-align: right;\">\n",
       "      <th></th>\n",
       "      <th>Features</th>\n",
       "      <th>No of Unique variables</th>\n",
       "    </tr>\n",
       "  </thead>\n",
       "  <tbody>\n",
       "    <tr>\n",
       "      <th>1</th>\n",
       "      <td>violation_code</td>\n",
       "      <td>36</td>\n",
       "    </tr>\n",
       "    <tr>\n",
       "      <th>2</th>\n",
       "      <td>disposition</td>\n",
       "      <td>5</td>\n",
       "    </tr>\n",
       "    <tr>\n",
       "      <th>0</th>\n",
       "      <td>agency_name</td>\n",
       "      <td>3</td>\n",
       "    </tr>\n",
       "  </tbody>\n",
       "</table>\n",
       "</div>"
      ],
      "text/plain": [
       "         Features  No of Unique variables\n",
       "1  violation_code                      36\n",
       "2     disposition                       5\n",
       "0     agency_name                       3"
      ]
     },
     "execution_count": 165,
     "metadata": {},
     "output_type": "execute_result"
    }
   ],
   "source": [
    "unique_feature(test)"
   ]
  },
  {
   "cell_type": "code",
   "execution_count": 167,
   "metadata": {},
   "outputs": [
    {
     "data": {
      "text/html": [
       "<div>\n",
       "<style scoped>\n",
       "    .dataframe tbody tr th:only-of-type {\n",
       "        vertical-align: middle;\n",
       "    }\n",
       "\n",
       "    .dataframe tbody tr th {\n",
       "        vertical-align: top;\n",
       "    }\n",
       "\n",
       "    .dataframe thead th {\n",
       "        text-align: right;\n",
       "    }\n",
       "</style>\n",
       "<table border=\"1\" class=\"dataframe\">\n",
       "  <thead>\n",
       "    <tr style=\"text-align: right;\">\n",
       "      <th></th>\n",
       "      <th>Features</th>\n",
       "      <th>No of Unique variables</th>\n",
       "    </tr>\n",
       "  </thead>\n",
       "  <tbody>\n",
       "    <tr>\n",
       "      <th>1</th>\n",
       "      <td>violation_code</td>\n",
       "      <td>45</td>\n",
       "    </tr>\n",
       "    <tr>\n",
       "      <th>0</th>\n",
       "      <td>agency_name</td>\n",
       "      <td>5</td>\n",
       "    </tr>\n",
       "    <tr>\n",
       "      <th>2</th>\n",
       "      <td>disposition</td>\n",
       "      <td>4</td>\n",
       "    </tr>\n",
       "  </tbody>\n",
       "</table>\n",
       "</div>"
      ],
      "text/plain": [
       "         Features  No of Unique variables\n",
       "1  violation_code                      45\n",
       "0     agency_name                       5\n",
       "2     disposition                       4"
      ]
     },
     "execution_count": 167,
     "metadata": {},
     "output_type": "execute_result"
    }
   ],
   "source": [
    "unique_feature(train)"
   ]
  },
  {
   "cell_type": "code",
   "execution_count": 168,
   "metadata": {},
   "outputs": [
    {
     "data": {
      "text/html": [
       "<div>\n",
       "<style scoped>\n",
       "    .dataframe tbody tr th:only-of-type {\n",
       "        vertical-align: middle;\n",
       "    }\n",
       "\n",
       "    .dataframe tbody tr th {\n",
       "        vertical-align: top;\n",
       "    }\n",
       "\n",
       "    .dataframe thead th {\n",
       "        text-align: right;\n",
       "    }\n",
       "</style>\n",
       "<table border=\"1\" class=\"dataframe\">\n",
       "  <thead>\n",
       "    <tr style=\"text-align: right;\">\n",
       "      <th></th>\n",
       "      <th>agency_name</th>\n",
       "      <th>violation_code</th>\n",
       "      <th>disposition</th>\n",
       "      <th>fine_amount</th>\n",
       "      <th>admin_fee</th>\n",
       "      <th>state_fee</th>\n",
       "      <th>late_fee</th>\n",
       "      <th>discount_amount</th>\n",
       "      <th>clean_up_cost</th>\n",
       "      <th>judgment_amount</th>\n",
       "      <th>lat</th>\n",
       "      <th>lon</th>\n",
       "    </tr>\n",
       "  </thead>\n",
       "  <tbody>\n",
       "    <tr>\n",
       "      <th>0</th>\n",
       "      <td>Department of Public Works</td>\n",
       "      <td>22-2-61</td>\n",
       "      <td>Responsible by Default</td>\n",
       "      <td>200.0</td>\n",
       "      <td>20.0</td>\n",
       "      <td>10.0</td>\n",
       "      <td>20.0</td>\n",
       "      <td>0.0</td>\n",
       "      <td>0.0</td>\n",
       "      <td>250.0</td>\n",
       "      <td>42.407581</td>\n",
       "      <td>-82.986642</td>\n",
       "    </tr>\n",
       "    <tr>\n",
       "      <th>1</th>\n",
       "      <td>Department of Public Works</td>\n",
       "      <td>22-2-88(b)</td>\n",
       "      <td>Responsible by Default</td>\n",
       "      <td>1000.0</td>\n",
       "      <td>20.0</td>\n",
       "      <td>10.0</td>\n",
       "      <td>100.0</td>\n",
       "      <td>0.0</td>\n",
       "      <td>0.0</td>\n",
       "      <td>1130.0</td>\n",
       "      <td>42.426239</td>\n",
       "      <td>-83.238259</td>\n",
       "    </tr>\n",
       "    <tr>\n",
       "      <th>2</th>\n",
       "      <td>Department of Public Works</td>\n",
       "      <td>22-2-43</td>\n",
       "      <td>Responsible by Default</td>\n",
       "      <td>100.0</td>\n",
       "      <td>20.0</td>\n",
       "      <td>10.0</td>\n",
       "      <td>10.0</td>\n",
       "      <td>0.0</td>\n",
       "      <td>0.0</td>\n",
       "      <td>140.0</td>\n",
       "      <td>42.426239</td>\n",
       "      <td>-83.238259</td>\n",
       "    </tr>\n",
       "    <tr>\n",
       "      <th>3</th>\n",
       "      <td>Department of Public Works</td>\n",
       "      <td>22-2-88(b)</td>\n",
       "      <td>Responsible by Default</td>\n",
       "      <td>200.0</td>\n",
       "      <td>20.0</td>\n",
       "      <td>10.0</td>\n",
       "      <td>20.0</td>\n",
       "      <td>0.0</td>\n",
       "      <td>0.0</td>\n",
       "      <td>250.0</td>\n",
       "      <td>42.309661</td>\n",
       "      <td>-83.122426</td>\n",
       "    </tr>\n",
       "    <tr>\n",
       "      <th>4</th>\n",
       "      <td>Department of Public Works</td>\n",
       "      <td>22-2-45</td>\n",
       "      <td>Responsible by Default</td>\n",
       "      <td>100.0</td>\n",
       "      <td>20.0</td>\n",
       "      <td>10.0</td>\n",
       "      <td>10.0</td>\n",
       "      <td>0.0</td>\n",
       "      <td>0.0</td>\n",
       "      <td>140.0</td>\n",
       "      <td>42.308830</td>\n",
       "      <td>-83.121116</td>\n",
       "    </tr>\n",
       "  </tbody>\n",
       "</table>\n",
       "</div>"
      ],
      "text/plain": [
       "                  agency_name violation_code             disposition  \\\n",
       "0  Department of Public Works        22-2-61  Responsible by Default   \n",
       "1  Department of Public Works     22-2-88(b)  Responsible by Default   \n",
       "2  Department of Public Works        22-2-43  Responsible by Default   \n",
       "3  Department of Public Works     22-2-88(b)  Responsible by Default   \n",
       "4  Department of Public Works        22-2-45  Responsible by Default   \n",
       "\n",
       "   fine_amount  admin_fee  state_fee  late_fee  discount_amount  \\\n",
       "0        200.0       20.0       10.0      20.0              0.0   \n",
       "1       1000.0       20.0       10.0     100.0              0.0   \n",
       "2        100.0       20.0       10.0      10.0              0.0   \n",
       "3        200.0       20.0       10.0      20.0              0.0   \n",
       "4        100.0       20.0       10.0      10.0              0.0   \n",
       "\n",
       "   clean_up_cost  judgment_amount        lat        lon  \n",
       "0            0.0            250.0  42.407581 -82.986642  \n",
       "1            0.0           1130.0  42.426239 -83.238259  \n",
       "2            0.0            140.0  42.426239 -83.238259  \n",
       "3            0.0            250.0  42.309661 -83.122426  \n",
       "4            0.0            140.0  42.308830 -83.121116  "
      ]
     },
     "execution_count": 168,
     "metadata": {},
     "output_type": "execute_result"
    }
   ],
   "source": [
    "test.head()"
   ]
  },
  {
   "cell_type": "code",
   "execution_count": 169,
   "metadata": {},
   "outputs": [
    {
     "data": {
      "text/html": [
       "<div>\n",
       "<style scoped>\n",
       "    .dataframe tbody tr th:only-of-type {\n",
       "        vertical-align: middle;\n",
       "    }\n",
       "\n",
       "    .dataframe tbody tr th {\n",
       "        vertical-align: top;\n",
       "    }\n",
       "\n",
       "    .dataframe thead th {\n",
       "        text-align: right;\n",
       "    }\n",
       "</style>\n",
       "<table border=\"1\" class=\"dataframe\">\n",
       "  <thead>\n",
       "    <tr style=\"text-align: right;\">\n",
       "      <th></th>\n",
       "      <th>agency_name</th>\n",
       "      <th>violation_code</th>\n",
       "      <th>disposition</th>\n",
       "      <th>fine_amount</th>\n",
       "      <th>admin_fee</th>\n",
       "      <th>state_fee</th>\n",
       "      <th>late_fee</th>\n",
       "      <th>discount_amount</th>\n",
       "      <th>clean_up_cost</th>\n",
       "      <th>judgment_amount</th>\n",
       "      <th>compliance</th>\n",
       "      <th>lat</th>\n",
       "      <th>lon</th>\n",
       "    </tr>\n",
       "  </thead>\n",
       "  <tbody>\n",
       "    <tr>\n",
       "      <th>0</th>\n",
       "      <td>Buildings, Safety Engineering &amp; Env Department</td>\n",
       "      <td>9-1-36(a)</td>\n",
       "      <td>Responsible by Default</td>\n",
       "      <td>250.0</td>\n",
       "      <td>20.0</td>\n",
       "      <td>10.0</td>\n",
       "      <td>25.0</td>\n",
       "      <td>0.0</td>\n",
       "      <td>0.0</td>\n",
       "      <td>305.0</td>\n",
       "      <td>0.0</td>\n",
       "      <td>42.390729</td>\n",
       "      <td>-83.124268</td>\n",
       "    </tr>\n",
       "    <tr>\n",
       "      <th>1</th>\n",
       "      <td>Buildings, Safety Engineering &amp; Env Department</td>\n",
       "      <td>9-1-36(a)</td>\n",
       "      <td>Responsible by Default</td>\n",
       "      <td>500.0</td>\n",
       "      <td>20.0</td>\n",
       "      <td>10.0</td>\n",
       "      <td>50.0</td>\n",
       "      <td>0.0</td>\n",
       "      <td>0.0</td>\n",
       "      <td>580.0</td>\n",
       "      <td>0.0</td>\n",
       "      <td>42.390729</td>\n",
       "      <td>-83.124268</td>\n",
       "    </tr>\n",
       "    <tr>\n",
       "      <th>2</th>\n",
       "      <td>Buildings, Safety Engineering &amp; Env Department</td>\n",
       "      <td>9-1-81(a)</td>\n",
       "      <td>Responsible by Default</td>\n",
       "      <td>250.0</td>\n",
       "      <td>20.0</td>\n",
       "      <td>10.0</td>\n",
       "      <td>25.0</td>\n",
       "      <td>0.0</td>\n",
       "      <td>0.0</td>\n",
       "      <td>305.0</td>\n",
       "      <td>0.0</td>\n",
       "      <td>42.390729</td>\n",
       "      <td>-83.124268</td>\n",
       "    </tr>\n",
       "    <tr>\n",
       "      <th>4</th>\n",
       "      <td>Department of Public Works</td>\n",
       "      <td>9-1-105</td>\n",
       "      <td>Responsible by Default</td>\n",
       "      <td>100.0</td>\n",
       "      <td>20.0</td>\n",
       "      <td>10.0</td>\n",
       "      <td>10.0</td>\n",
       "      <td>0.0</td>\n",
       "      <td>0.0</td>\n",
       "      <td>140.0</td>\n",
       "      <td>0.0</td>\n",
       "      <td>42.390729</td>\n",
       "      <td>-83.124268</td>\n",
       "    </tr>\n",
       "    <tr>\n",
       "      <th>5</th>\n",
       "      <td>Buildings, Safety Engineering &amp; Env Department</td>\n",
       "      <td>19450901</td>\n",
       "      <td>Responsible by Default</td>\n",
       "      <td>300.0</td>\n",
       "      <td>20.0</td>\n",
       "      <td>10.0</td>\n",
       "      <td>30.0</td>\n",
       "      <td>0.0</td>\n",
       "      <td>0.0</td>\n",
       "      <td>360.0</td>\n",
       "      <td>0.0</td>\n",
       "      <td>42.390729</td>\n",
       "      <td>-83.124268</td>\n",
       "    </tr>\n",
       "  </tbody>\n",
       "</table>\n",
       "</div>"
      ],
      "text/plain": [
       "                                      agency_name violation_code  \\\n",
       "0  Buildings, Safety Engineering & Env Department      9-1-36(a)   \n",
       "1  Buildings, Safety Engineering & Env Department      9-1-36(a)   \n",
       "2  Buildings, Safety Engineering & Env Department      9-1-81(a)   \n",
       "4                      Department of Public Works        9-1-105   \n",
       "5  Buildings, Safety Engineering & Env Department       19450901   \n",
       "\n",
       "              disposition  fine_amount  admin_fee  state_fee  late_fee  \\\n",
       "0  Responsible by Default        250.0       20.0       10.0      25.0   \n",
       "1  Responsible by Default        500.0       20.0       10.0      50.0   \n",
       "2  Responsible by Default        250.0       20.0       10.0      25.0   \n",
       "4  Responsible by Default        100.0       20.0       10.0      10.0   \n",
       "5  Responsible by Default        300.0       20.0       10.0      30.0   \n",
       "\n",
       "   discount_amount  clean_up_cost  judgment_amount  compliance        lat  \\\n",
       "0              0.0            0.0            305.0         0.0  42.390729   \n",
       "1              0.0            0.0            580.0         0.0  42.390729   \n",
       "2              0.0            0.0            305.0         0.0  42.390729   \n",
       "4              0.0            0.0            140.0         0.0  42.390729   \n",
       "5              0.0            0.0            360.0         0.0  42.390729   \n",
       "\n",
       "         lon  \n",
       "0 -83.124268  \n",
       "1 -83.124268  \n",
       "2 -83.124268  \n",
       "4 -83.124268  \n",
       "5 -83.124268  "
      ]
     },
     "execution_count": 169,
     "metadata": {},
     "output_type": "execute_result"
    }
   ],
   "source": [
    "train.head()"
   ]
  },
  {
   "cell_type": "code",
   "execution_count": 173,
   "metadata": {},
   "outputs": [
    {
     "data": {
      "text/plain": [
       "Index(['agency_name', 'violation_code', 'disposition'], dtype='object')"
      ]
     },
     "execution_count": 173,
     "metadata": {},
     "output_type": "execute_result"
    }
   ],
   "source": [
    "test.select_dtypes(include = [np.object]).columns"
   ]
  },
  {
   "cell_type": "code",
   "execution_count": 224,
   "metadata": {},
   "outputs": [],
   "source": [
    "valid = test.copy()"
   ]
  },
  {
   "cell_type": "code",
   "execution_count": 228,
   "metadata": {},
   "outputs": [],
   "source": [
    "X = train.drop('compliance', axis = 1)\n",
    "y = train.compliance.values"
   ]
  },
  {
   "cell_type": "code",
   "execution_count": 229,
   "metadata": {},
   "outputs": [],
   "source": [
    "from sklearn.preprocessing import OneHotEncoder\n",
    "from sklearn.compose import ColumnTransformer\n",
    "ohe = OneHotEncoder(handle_unknown= 'ignore')"
   ]
  },
  {
   "cell_type": "code",
   "execution_count": 230,
   "metadata": {},
   "outputs": [
    {
     "data": {
      "text/plain": [
       "Index(['agency_name', 'violation_code', 'disposition'], dtype='object')"
      ]
     },
     "execution_count": 230,
     "metadata": {},
     "output_type": "execute_result"
    }
   ],
   "source": [
    "cat_feat"
   ]
  },
  {
   "cell_type": "code",
   "execution_count": 231,
   "metadata": {},
   "outputs": [],
   "source": [
    "train_cat = X[cat_feat]\n",
    "test_cat = valid[cat_feat]\n",
    "train_cat = ohe.fit_transform(train_cat).toarray()\n",
    "test_cat = ohe.transform(test_cat).toarray()"
   ]
  },
  {
   "cell_type": "code",
   "execution_count": 232,
   "metadata": {},
   "outputs": [],
   "source": [
    "X = X.reset_index(drop = True)"
   ]
  },
  {
   "cell_type": "code",
   "execution_count": 233,
   "metadata": {},
   "outputs": [],
   "source": [
    "train_cat = pd.DataFrame(train_cat)\n",
    "test_cat = pd.DataFrame(test_cat)"
   ]
  },
  {
   "cell_type": "code",
   "execution_count": 234,
   "metadata": {},
   "outputs": [],
   "source": [
    "X = X.join(train_cat)\n",
    "valid = valid.join(test_cat)"
   ]
  },
  {
   "cell_type": "code",
   "execution_count": 235,
   "metadata": {},
   "outputs": [
    {
     "data": {
      "text/plain": [
       "agency_name       0\n",
       "violation_code    0\n",
       "disposition       0\n",
       "fine_amount       0\n",
       "admin_fee         0\n",
       "                 ..\n",
       "49                0\n",
       "50                0\n",
       "51                0\n",
       "52                0\n",
       "53                0\n",
       "Length: 66, dtype: int64"
      ]
     },
     "execution_count": 235,
     "metadata": {},
     "output_type": "execute_result"
    }
   ],
   "source": [
    "X.isnull().sum()"
   ]
  },
  {
   "cell_type": "code",
   "execution_count": 236,
   "metadata": {},
   "outputs": [
    {
     "data": {
      "text/plain": [
       "agency_name       0\n",
       "violation_code    0\n",
       "disposition       0\n",
       "fine_amount       0\n",
       "admin_fee         0\n",
       "                 ..\n",
       "49                0\n",
       "50                0\n",
       "51                0\n",
       "52                0\n",
       "53                0\n",
       "Length: 66, dtype: int64"
      ]
     },
     "execution_count": 236,
     "metadata": {},
     "output_type": "execute_result"
    }
   ],
   "source": [
    "valid.isnull().sum()"
   ]
  },
  {
   "cell_type": "code",
   "execution_count": 237,
   "metadata": {},
   "outputs": [
    {
     "data": {
      "text/plain": [
       "(159863, 54)"
      ]
     },
     "execution_count": 237,
     "metadata": {},
     "output_type": "execute_result"
    }
   ],
   "source": [
    "train_cat.shape"
   ]
  },
  {
   "cell_type": "code",
   "execution_count": 238,
   "metadata": {},
   "outputs": [
    {
     "data": {
      "text/plain": [
       "(61001, 54)"
      ]
     },
     "execution_count": 238,
     "metadata": {},
     "output_type": "execute_result"
    }
   ],
   "source": [
    "test_cat.shape"
   ]
  },
  {
   "cell_type": "code",
   "execution_count": 239,
   "metadata": {},
   "outputs": [
    {
     "data": {
      "text/html": [
       "<div>\n",
       "<style scoped>\n",
       "    .dataframe tbody tr th:only-of-type {\n",
       "        vertical-align: middle;\n",
       "    }\n",
       "\n",
       "    .dataframe tbody tr th {\n",
       "        vertical-align: top;\n",
       "    }\n",
       "\n",
       "    .dataframe thead th {\n",
       "        text-align: right;\n",
       "    }\n",
       "</style>\n",
       "<table border=\"1\" class=\"dataframe\">\n",
       "  <thead>\n",
       "    <tr style=\"text-align: right;\">\n",
       "      <th></th>\n",
       "      <th>agency_name</th>\n",
       "      <th>violation_code</th>\n",
       "      <th>disposition</th>\n",
       "      <th>fine_amount</th>\n",
       "      <th>admin_fee</th>\n",
       "      <th>state_fee</th>\n",
       "      <th>late_fee</th>\n",
       "      <th>discount_amount</th>\n",
       "      <th>clean_up_cost</th>\n",
       "      <th>judgment_amount</th>\n",
       "      <th>...</th>\n",
       "      <th>44</th>\n",
       "      <th>45</th>\n",
       "      <th>46</th>\n",
       "      <th>47</th>\n",
       "      <th>48</th>\n",
       "      <th>49</th>\n",
       "      <th>50</th>\n",
       "      <th>51</th>\n",
       "      <th>52</th>\n",
       "      <th>53</th>\n",
       "    </tr>\n",
       "  </thead>\n",
       "  <tbody>\n",
       "    <tr>\n",
       "      <th>0</th>\n",
       "      <td>Buildings, Safety Engineering &amp; Env Department</td>\n",
       "      <td>9-1-36(a)</td>\n",
       "      <td>Responsible by Default</td>\n",
       "      <td>250.0</td>\n",
       "      <td>20.0</td>\n",
       "      <td>10.0</td>\n",
       "      <td>25.0</td>\n",
       "      <td>0.0</td>\n",
       "      <td>0.0</td>\n",
       "      <td>305.0</td>\n",
       "      <td>...</td>\n",
       "      <td>0.0</td>\n",
       "      <td>0.0</td>\n",
       "      <td>0.0</td>\n",
       "      <td>0.0</td>\n",
       "      <td>0.0</td>\n",
       "      <td>0.0</td>\n",
       "      <td>0.0</td>\n",
       "      <td>0.0</td>\n",
       "      <td>1.0</td>\n",
       "      <td>0.0</td>\n",
       "    </tr>\n",
       "    <tr>\n",
       "      <th>1</th>\n",
       "      <td>Buildings, Safety Engineering &amp; Env Department</td>\n",
       "      <td>9-1-36(a)</td>\n",
       "      <td>Responsible by Default</td>\n",
       "      <td>500.0</td>\n",
       "      <td>20.0</td>\n",
       "      <td>10.0</td>\n",
       "      <td>50.0</td>\n",
       "      <td>0.0</td>\n",
       "      <td>0.0</td>\n",
       "      <td>580.0</td>\n",
       "      <td>...</td>\n",
       "      <td>0.0</td>\n",
       "      <td>0.0</td>\n",
       "      <td>0.0</td>\n",
       "      <td>0.0</td>\n",
       "      <td>0.0</td>\n",
       "      <td>0.0</td>\n",
       "      <td>0.0</td>\n",
       "      <td>0.0</td>\n",
       "      <td>1.0</td>\n",
       "      <td>0.0</td>\n",
       "    </tr>\n",
       "    <tr>\n",
       "      <th>2</th>\n",
       "      <td>Buildings, Safety Engineering &amp; Env Department</td>\n",
       "      <td>9-1-81(a)</td>\n",
       "      <td>Responsible by Default</td>\n",
       "      <td>250.0</td>\n",
       "      <td>20.0</td>\n",
       "      <td>10.0</td>\n",
       "      <td>25.0</td>\n",
       "      <td>0.0</td>\n",
       "      <td>0.0</td>\n",
       "      <td>305.0</td>\n",
       "      <td>...</td>\n",
       "      <td>0.0</td>\n",
       "      <td>0.0</td>\n",
       "      <td>1.0</td>\n",
       "      <td>0.0</td>\n",
       "      <td>0.0</td>\n",
       "      <td>0.0</td>\n",
       "      <td>0.0</td>\n",
       "      <td>0.0</td>\n",
       "      <td>1.0</td>\n",
       "      <td>0.0</td>\n",
       "    </tr>\n",
       "    <tr>\n",
       "      <th>3</th>\n",
       "      <td>Department of Public Works</td>\n",
       "      <td>9-1-105</td>\n",
       "      <td>Responsible by Default</td>\n",
       "      <td>100.0</td>\n",
       "      <td>20.0</td>\n",
       "      <td>10.0</td>\n",
       "      <td>10.0</td>\n",
       "      <td>0.0</td>\n",
       "      <td>0.0</td>\n",
       "      <td>140.0</td>\n",
       "      <td>...</td>\n",
       "      <td>0.0</td>\n",
       "      <td>0.0</td>\n",
       "      <td>0.0</td>\n",
       "      <td>0.0</td>\n",
       "      <td>0.0</td>\n",
       "      <td>0.0</td>\n",
       "      <td>0.0</td>\n",
       "      <td>0.0</td>\n",
       "      <td>1.0</td>\n",
       "      <td>0.0</td>\n",
       "    </tr>\n",
       "    <tr>\n",
       "      <th>4</th>\n",
       "      <td>Buildings, Safety Engineering &amp; Env Department</td>\n",
       "      <td>19450901</td>\n",
       "      <td>Responsible by Default</td>\n",
       "      <td>300.0</td>\n",
       "      <td>20.0</td>\n",
       "      <td>10.0</td>\n",
       "      <td>30.0</td>\n",
       "      <td>0.0</td>\n",
       "      <td>0.0</td>\n",
       "      <td>360.0</td>\n",
       "      <td>...</td>\n",
       "      <td>0.0</td>\n",
       "      <td>0.0</td>\n",
       "      <td>0.0</td>\n",
       "      <td>0.0</td>\n",
       "      <td>0.0</td>\n",
       "      <td>0.0</td>\n",
       "      <td>0.0</td>\n",
       "      <td>0.0</td>\n",
       "      <td>1.0</td>\n",
       "      <td>0.0</td>\n",
       "    </tr>\n",
       "  </tbody>\n",
       "</table>\n",
       "<p>5 rows × 66 columns</p>\n",
       "</div>"
      ],
      "text/plain": [
       "                                      agency_name violation_code  \\\n",
       "0  Buildings, Safety Engineering & Env Department      9-1-36(a)   \n",
       "1  Buildings, Safety Engineering & Env Department      9-1-36(a)   \n",
       "2  Buildings, Safety Engineering & Env Department      9-1-81(a)   \n",
       "3                      Department of Public Works        9-1-105   \n",
       "4  Buildings, Safety Engineering & Env Department       19450901   \n",
       "\n",
       "              disposition  fine_amount  admin_fee  state_fee  late_fee  \\\n",
       "0  Responsible by Default        250.0       20.0       10.0      25.0   \n",
       "1  Responsible by Default        500.0       20.0       10.0      50.0   \n",
       "2  Responsible by Default        250.0       20.0       10.0      25.0   \n",
       "3  Responsible by Default        100.0       20.0       10.0      10.0   \n",
       "4  Responsible by Default        300.0       20.0       10.0      30.0   \n",
       "\n",
       "   discount_amount  clean_up_cost  judgment_amount  ...   44   45   46   47  \\\n",
       "0              0.0            0.0            305.0  ...  0.0  0.0  0.0  0.0   \n",
       "1              0.0            0.0            580.0  ...  0.0  0.0  0.0  0.0   \n",
       "2              0.0            0.0            305.0  ...  0.0  0.0  1.0  0.0   \n",
       "3              0.0            0.0            140.0  ...  0.0  0.0  0.0  0.0   \n",
       "4              0.0            0.0            360.0  ...  0.0  0.0  0.0  0.0   \n",
       "\n",
       "    48   49   50   51   52   53  \n",
       "0  0.0  0.0  0.0  0.0  1.0  0.0  \n",
       "1  0.0  0.0  0.0  0.0  1.0  0.0  \n",
       "2  0.0  0.0  0.0  0.0  1.0  0.0  \n",
       "3  0.0  0.0  0.0  0.0  1.0  0.0  \n",
       "4  0.0  0.0  0.0  0.0  1.0  0.0  \n",
       "\n",
       "[5 rows x 66 columns]"
      ]
     },
     "execution_count": 239,
     "metadata": {},
     "output_type": "execute_result"
    }
   ],
   "source": [
    "X.head()"
   ]
  },
  {
   "cell_type": "code",
   "execution_count": 241,
   "metadata": {},
   "outputs": [],
   "source": [
    "X.drop(cat_feat, axis = 1, inplace= True)\n",
    "valid.drop(cat_feat, axis = 1, inplace= True)"
   ]
  },
  {
   "cell_type": "code",
   "execution_count": 242,
   "metadata": {},
   "outputs": [
    {
     "data": {
      "text/html": [
       "<div>\n",
       "<style scoped>\n",
       "    .dataframe tbody tr th:only-of-type {\n",
       "        vertical-align: middle;\n",
       "    }\n",
       "\n",
       "    .dataframe tbody tr th {\n",
       "        vertical-align: top;\n",
       "    }\n",
       "\n",
       "    .dataframe thead th {\n",
       "        text-align: right;\n",
       "    }\n",
       "</style>\n",
       "<table border=\"1\" class=\"dataframe\">\n",
       "  <thead>\n",
       "    <tr style=\"text-align: right;\">\n",
       "      <th></th>\n",
       "      <th>fine_amount</th>\n",
       "      <th>admin_fee</th>\n",
       "      <th>state_fee</th>\n",
       "      <th>late_fee</th>\n",
       "      <th>discount_amount</th>\n",
       "      <th>clean_up_cost</th>\n",
       "      <th>judgment_amount</th>\n",
       "      <th>lat</th>\n",
       "      <th>lon</th>\n",
       "      <th>0</th>\n",
       "      <th>...</th>\n",
       "      <th>44</th>\n",
       "      <th>45</th>\n",
       "      <th>46</th>\n",
       "      <th>47</th>\n",
       "      <th>48</th>\n",
       "      <th>49</th>\n",
       "      <th>50</th>\n",
       "      <th>51</th>\n",
       "      <th>52</th>\n",
       "      <th>53</th>\n",
       "    </tr>\n",
       "  </thead>\n",
       "  <tbody>\n",
       "    <tr>\n",
       "      <th>0</th>\n",
       "      <td>250.0</td>\n",
       "      <td>20.0</td>\n",
       "      <td>10.0</td>\n",
       "      <td>25.0</td>\n",
       "      <td>0.0</td>\n",
       "      <td>0.0</td>\n",
       "      <td>305.0</td>\n",
       "      <td>42.390729</td>\n",
       "      <td>-83.124268</td>\n",
       "      <td>1.0</td>\n",
       "      <td>...</td>\n",
       "      <td>0.0</td>\n",
       "      <td>0.0</td>\n",
       "      <td>0.0</td>\n",
       "      <td>0.0</td>\n",
       "      <td>0.0</td>\n",
       "      <td>0.0</td>\n",
       "      <td>0.0</td>\n",
       "      <td>0.0</td>\n",
       "      <td>1.0</td>\n",
       "      <td>0.0</td>\n",
       "    </tr>\n",
       "    <tr>\n",
       "      <th>1</th>\n",
       "      <td>500.0</td>\n",
       "      <td>20.0</td>\n",
       "      <td>10.0</td>\n",
       "      <td>50.0</td>\n",
       "      <td>0.0</td>\n",
       "      <td>0.0</td>\n",
       "      <td>580.0</td>\n",
       "      <td>42.390729</td>\n",
       "      <td>-83.124268</td>\n",
       "      <td>1.0</td>\n",
       "      <td>...</td>\n",
       "      <td>0.0</td>\n",
       "      <td>0.0</td>\n",
       "      <td>0.0</td>\n",
       "      <td>0.0</td>\n",
       "      <td>0.0</td>\n",
       "      <td>0.0</td>\n",
       "      <td>0.0</td>\n",
       "      <td>0.0</td>\n",
       "      <td>1.0</td>\n",
       "      <td>0.0</td>\n",
       "    </tr>\n",
       "    <tr>\n",
       "      <th>2</th>\n",
       "      <td>250.0</td>\n",
       "      <td>20.0</td>\n",
       "      <td>10.0</td>\n",
       "      <td>25.0</td>\n",
       "      <td>0.0</td>\n",
       "      <td>0.0</td>\n",
       "      <td>305.0</td>\n",
       "      <td>42.390729</td>\n",
       "      <td>-83.124268</td>\n",
       "      <td>1.0</td>\n",
       "      <td>...</td>\n",
       "      <td>0.0</td>\n",
       "      <td>0.0</td>\n",
       "      <td>1.0</td>\n",
       "      <td>0.0</td>\n",
       "      <td>0.0</td>\n",
       "      <td>0.0</td>\n",
       "      <td>0.0</td>\n",
       "      <td>0.0</td>\n",
       "      <td>1.0</td>\n",
       "      <td>0.0</td>\n",
       "    </tr>\n",
       "    <tr>\n",
       "      <th>3</th>\n",
       "      <td>100.0</td>\n",
       "      <td>20.0</td>\n",
       "      <td>10.0</td>\n",
       "      <td>10.0</td>\n",
       "      <td>0.0</td>\n",
       "      <td>0.0</td>\n",
       "      <td>140.0</td>\n",
       "      <td>42.390729</td>\n",
       "      <td>-83.124268</td>\n",
       "      <td>0.0</td>\n",
       "      <td>...</td>\n",
       "      <td>0.0</td>\n",
       "      <td>0.0</td>\n",
       "      <td>0.0</td>\n",
       "      <td>0.0</td>\n",
       "      <td>0.0</td>\n",
       "      <td>0.0</td>\n",
       "      <td>0.0</td>\n",
       "      <td>0.0</td>\n",
       "      <td>1.0</td>\n",
       "      <td>0.0</td>\n",
       "    </tr>\n",
       "    <tr>\n",
       "      <th>4</th>\n",
       "      <td>300.0</td>\n",
       "      <td>20.0</td>\n",
       "      <td>10.0</td>\n",
       "      <td>30.0</td>\n",
       "      <td>0.0</td>\n",
       "      <td>0.0</td>\n",
       "      <td>360.0</td>\n",
       "      <td>42.390729</td>\n",
       "      <td>-83.124268</td>\n",
       "      <td>1.0</td>\n",
       "      <td>...</td>\n",
       "      <td>0.0</td>\n",
       "      <td>0.0</td>\n",
       "      <td>0.0</td>\n",
       "      <td>0.0</td>\n",
       "      <td>0.0</td>\n",
       "      <td>0.0</td>\n",
       "      <td>0.0</td>\n",
       "      <td>0.0</td>\n",
       "      <td>1.0</td>\n",
       "      <td>0.0</td>\n",
       "    </tr>\n",
       "  </tbody>\n",
       "</table>\n",
       "<p>5 rows × 63 columns</p>\n",
       "</div>"
      ],
      "text/plain": [
       "   fine_amount  admin_fee  state_fee  late_fee  discount_amount  \\\n",
       "0        250.0       20.0       10.0      25.0              0.0   \n",
       "1        500.0       20.0       10.0      50.0              0.0   \n",
       "2        250.0       20.0       10.0      25.0              0.0   \n",
       "3        100.0       20.0       10.0      10.0              0.0   \n",
       "4        300.0       20.0       10.0      30.0              0.0   \n",
       "\n",
       "   clean_up_cost  judgment_amount        lat        lon    0  ...   44   45  \\\n",
       "0            0.0            305.0  42.390729 -83.124268  1.0  ...  0.0  0.0   \n",
       "1            0.0            580.0  42.390729 -83.124268  1.0  ...  0.0  0.0   \n",
       "2            0.0            305.0  42.390729 -83.124268  1.0  ...  0.0  0.0   \n",
       "3            0.0            140.0  42.390729 -83.124268  0.0  ...  0.0  0.0   \n",
       "4            0.0            360.0  42.390729 -83.124268  1.0  ...  0.0  0.0   \n",
       "\n",
       "    46   47   48   49   50   51   52   53  \n",
       "0  0.0  0.0  0.0  0.0  0.0  0.0  1.0  0.0  \n",
       "1  0.0  0.0  0.0  0.0  0.0  0.0  1.0  0.0  \n",
       "2  1.0  0.0  0.0  0.0  0.0  0.0  1.0  0.0  \n",
       "3  0.0  0.0  0.0  0.0  0.0  0.0  1.0  0.0  \n",
       "4  0.0  0.0  0.0  0.0  0.0  0.0  1.0  0.0  \n",
       "\n",
       "[5 rows x 63 columns]"
      ]
     },
     "execution_count": 242,
     "metadata": {},
     "output_type": "execute_result"
    }
   ],
   "source": [
    "X.head()"
   ]
  },
  {
   "cell_type": "code",
   "execution_count": 245,
   "metadata": {},
   "outputs": [
    {
     "name": "stdout",
     "output_type": "stream",
     "text": [
      "RF: 0.774056 (0.004900)\n",
      "RF Test ROC_AUC results: 0.7680451207970337\n",
      "LR: 0.799318 (0.005457)\n",
      "LR Test ROC_AUC results: 0.793346921560878\n",
      "Tree: 0.661612 (0.004728)\n",
      "Tree Test ROC_AUC results: 0.6650952058294671\n",
      "EE: 0.762140 (0.005663)\n",
      "EE Test ROC_AUC results: 0.757611625826993\n",
      "GBR: 0.813093 (0.005182)\n",
      "GBR Test ROC_AUC results: 0.8079001950478288\n"
     ]
    }
   ],
   "source": [
    "X_train, X_test, y_train, y_test = train_test_split(X, y, random_state = 42,stratify = y )\n",
    "scalar = MinMaxScaler()\n",
    "X_train_scaled = scalar.fit_transform(X_train)\n",
    "X_test_scaled = scalar.transform(X_test)\n",
    "seed = 445\n",
    "models = []\n",
    "models.append(('RF', RandomForestClassifier(class_weight ={0:1, 1:13}, n_jobs = -1, random_state = seed)))\n",
    "models.append(('LR', LogisticRegression(class_weight = {0:1, 1:13}, C = 10,  n_jobs = -1)))\n",
    "models.append(('Tree', DecisionTreeClassifier(random_state = 1)))\n",
    "models.append(('EE', ExtraTreesClassifier(random_state = 443)))\n",
    "models.append(('GBR', GradientBoostingClassifier(random_state = 544 )))\n",
    "results = []\n",
    "names = []\n",
    "for name, model in models:\n",
    "    kfold = RepeatedStratifiedKFold(n_splits=5, random_state=seed)\n",
    "    cv_results = cross_val_score(model, X_train_scaled, y_train, cv=kfold, scoring='roc_auc',  n_jobs = -1)\n",
    "    results.append(cv_results)\n",
    "    names.append(name)\n",
    "    msg = \"%s: %f (%f)\" % (name, cv_results.mean(), cv_results.std())\n",
    "    print(msg)\n",
    "    model.fit(X_train_scaled, y_train)\n",
    "    y_pred = model.predict_proba(X_test_scaled)[:, 1]\n",
    "    print('{} Test ROC_AUC results: {}'.format(name, roc_auc_score(y_test, y_pred)))"
   ]
  },
  {
   "cell_type": "code",
   "execution_count": 253,
   "metadata": {},
   "outputs": [
    {
     "data": {
      "image/png": "[encoded data removed]",
      "text/plain": [
       "<Figure size 432x288 with 1 Axes>"
      ]
     },
     "metadata": {
      "needs_background": "light"
     },
     "output_type": "display_data"
    }
   ],
   "source": [
    "from sklearn.metrics import roc_curve, auc\n",
    "learning_rates = [0.01, 0.1, 0.25, 0.05, 1]\n",
    "train_results = []\n",
    "test_results = []\n",
    "for eta in learning_rates:\n",
    "    gbr = GradientBoostingClassifier(learning_rate=eta)\n",
    "    gbr.fit(X_train_scaled, y_train)\n",
    "    train_pred = gbr.predict(X_train_scaled)\n",
    "    score = roc_auc_score(y_train, train_pred)\n",
    "    train_results.append(score)\n",
    "    \n",
    "    y_pred = gbr.predict(X_test_scaled)\n",
    "    score = roc_auc_score(y_test, y_pred)\n",
    "    test_results.append(score)\n",
    "\n",
    "plt.plot(learning_rates, train_results, 'b', label = 'Train-ROC-AUC')\n",
    "plt.plot(learning_rates, test_results, 'r', label = 'Test-ROC-AUC')\n",
    "plt.legend(loc=2, fontsize=11)\n",
    "plt.xlabel('ROC-AUC-SCORE')\n",
    "plt.ylabel('Learning rates')\n",
    "plt.title('Learning_rates', fontsize=16)\n",
    "plt.show()"
   ]
  },
  {
   "cell_type": "code",
   "execution_count": 256,
   "metadata": {},
   "outputs": [
    {
     "data": {
      "image/png": "[encoded data removed]",
      "text/plain": [
       "<Figure size 432x288 with 1 Axes>"
      ]
     },
     "metadata": {
      "needs_background": "light"
     },
     "output_type": "display_data"
    }
   ],
   "source": [
    "n_estimators = [5, 10, 32, 100, 200, 300]\n",
    "train_results = []\n",
    "test_results = []\n",
    "for estimator in n_estimators:\n",
    "    gbr = GradientBoostingClassifier(n_estimators=estimator)\n",
    "    gbr.fit(X_train_scaled, y_train)\n",
    "    train_pred = gbr.predict(X_train_scaled)\n",
    "    fpr_, tpr_, _ = roc_curve(y_train, train_pred)\n",
    "    roc_auc_ = auc(fpr_, tpr_)\n",
    "    train_results.append(roc_auc_)\n",
    "    \n",
    "    y_pred = gbr.predict(X_test_scaled)\n",
    "    fpr_, tpr_, _ = roc_curve(y_test, y_pred)\n",
    "    roc_auc_ = auc(fpr_, tpr_)\n",
    "    test_results.append(roc_auc_)\n",
    "\n",
    "plt.plot(n_estimators, train_results, 'b', label = 'Train-AUC-SCORE')\n",
    "plt.plot(n_estimators, test_results, 'r', label = 'Test-AUC-SCORE')\n",
    "plt.legend(loc=\"upper right\", fontsize=11)\n",
    "plt.xlabel('N_estimators')\n",
    "plt.ylabel('ROC-AUC-SCORE')\n",
    "plt.show()"
   ]
  },
  {
   "cell_type": "code",
   "execution_count": 258,
   "metadata": {},
   "outputs": [
    {
     "data": {
      "image/png": "[encoded data removed]",
      "text/plain": [
       "<Figure size 432x288 with 1 Axes>"
      ]
     },
     "metadata": {
      "needs_background": "light"
     },
     "output_type": "display_data"
    }
   ],
   "source": [
    "max_depths = [2,4,6,8,10,12,20,24]\n",
    "train_results = []\n",
    "test_results = []\n",
    "for max_depth in max_depths:\n",
    "    gbr = GradientBoostingClassifier(max_depth=max_depth)\n",
    "    gbr.fit(X_train_scaled, y_train)\n",
    "    train_pred = gbr.predict(X_train_scaled)\n",
    "    fpr_, tpr_, _ = roc_curve(y_train, train_pred)\n",
    "    roc_auc_ = auc(fpr_, tpr_)\n",
    "    train_results.append(roc_auc_)\n",
    "    \n",
    "    y_pred = gbr.predict(X_test_scaled)\n",
    "    fpr_, tpr_, _ = roc_curve(y_test, y_pred)\n",
    "    roc_auc_ = auc(fpr_, tpr_)\n",
    "    test_results.append(roc_auc_)\n",
    "\n",
    "plt.plot(max_depths, train_results, 'b', label = 'Train-AUC-SCORE')\n",
    "plt.plot(max_depths, test_results, 'r', label = 'Test-AUC-SCORE')\n",
    "plt.legend(loc=\"upper right\", fontsize=11)\n",
    "plt.xlabel('Max_depths')\n",
    "plt.ylabel('ROC-AUC-SCORE')\n",
    "plt.show()"
   ]
  },
  {
   "cell_type": "code",
   "execution_count": 264,
   "metadata": {},
   "outputs": [
    {
     "data": {
      "image/png": "[encoded data removed]",
      "text/plain": [
       "<Figure size 432x288 with 1 Axes>"
      ]
     },
     "metadata": {
      "needs_background": "light"
     },
     "output_type": "display_data"
    }
   ],
   "source": [
    "min_samples_splits = np.linspace(0.1, 1, 10, endpoint = 1)\n",
    "train_results = []\n",
    "test_results = []\n",
    "for min_samples_split in min_samples_splits:\n",
    "    gbr = GradientBoostingClassifier(min_samples_split= min_samples_split)\n",
    "    gbr.fit(X_train_scaled, y_train)\n",
    "    train_pred = gbr.predict(X_train_scaled)\n",
    "    fpr_, tpr_, _ = roc_curve(y_train, train_pred)\n",
    "    roc_auc_ = auc(fpr_, tpr_)\n",
    "    train_results.append(roc_auc_)\n",
    "    \n",
    "    y_pred = gbr.predict(X_test_scaled)\n",
    "    fpr_, tpr_, _ = roc_curve(y_test, y_pred)\n",
    "    roc_auc_ = auc(fpr_, tpr_)\n",
    "    test_results.append(roc_auc_)\n",
    "\n",
    "plt.plot(min_samples_splits, train_results, 'b', label = 'Train-AUC-SCORE')\n",
    "plt.plot(min_samples_splits, test_results, 'r', label = 'Test-AUC-SCORE')\n",
    "plt.legend(loc=\"upper right\", fontsize=11)\n",
    "plt.xlabel('Min_samples_splits')\n",
    "plt.ylabel('ROC-AUC-SCORE')\n",
    "plt.show()"
   ]
  },
  {
   "cell_type": "code",
   "execution_count": 265,
   "metadata": {},
   "outputs": [
    {
     "data": {
      "image/png": "[encoded data removed]",
      "text/plain": [
       "<Figure size 432x288 with 1 Axes>"
      ]
     },
     "metadata": {
      "needs_background": "light"
     },
     "output_type": "display_data"
    }
   ],
   "source": [
    "max_features = [6, 8, 12, 20, 36]\n",
    "train_results = []\n",
    "test_results = []\n",
    "for max_feature in max_features:\n",
    "    gbr = GradientBoostingClassifier(max_features= max_feature)\n",
    "    gbr.fit(X_train_scaled, y_train)\n",
    "    train_pred = gbr.predict(X_train_scaled)\n",
    "    fpr_, tpr_, _ = roc_curve(y_train, train_pred)\n",
    "    roc_auc_ = auc(fpr_, tpr_)\n",
    "    train_results.append(roc_auc_)\n",
    "    \n",
    "    y_pred = gbr.predict(X_test_scaled)\n",
    "    fpr_, tpr_, _ = roc_curve(y_test, y_pred)\n",
    "    roc_auc_ = auc(fpr_, tpr_)\n",
    "    test_results.append(roc_auc_)\n",
    "\n",
    "plt.plot(max_features, train_results, 'b', label = 'Train-AUC-SCORE')\n",
    "plt.plot(max_features, test_results, 'r', label = 'Test-AUC-SCORE')\n",
    "plt.legend(loc=\"upper right\", fontsize=11)\n",
    "plt.xlabel('max_features')\n",
    "plt.ylabel('ROC-AUC-SCORE')\n",
    "plt.show()"
   ]
  },
  {
   "cell_type": "code",
   "execution_count": 281,
   "metadata": {},
   "outputs": [
    {
     "data": {
      "text/plain": [
       "GradientBoostingClassifier()"
      ]
     },
     "execution_count": 281,
     "metadata": {},
     "output_type": "execute_result"
    }
   ],
   "source": [
    "clf = GradientBoostingClassifier()\n",
    "clf.fit(X_train_scaled, y_train)\n"
   ]
  },
  {
   "cell_type": "code",
   "execution_count": 282,
   "metadata": {},
   "outputs": [
    {
     "name": "stdout",
     "output_type": "stream",
     "text": [
      "Train ROC_AUC results: 0.8173032903685425\n",
      "Test ROC_AUC results: 0.8077529038924722\n"
     ]
    }
   ],
   "source": [
    "train_pred =clf.predict_proba(X_train_scaled)[:,1]\n",
    "y_pred = clf.predict_proba(X_test_scaled)[:, 1]\n",
    "print('Train ROC_AUC results: {}'.format( roc_auc_score(y_train, train_pred)))\n",
    "print('Test ROC_AUC results: {}'.format(roc_auc_score(y_test, y_pred)))"
   ]
  },
  {
   "cell_type": "code",
   "execution_count": 283,
   "metadata": {},
   "outputs": [
    {
     "name": "stdout",
     "output_type": "stream",
     "text": [
      "Train ROC_AUC results: 0.8175574299857836\n",
      "Test ROC_AUC results: 0.8085357129938382\n"
     ]
    }
   ],
   "source": [
    "clf_un = GradientBoostingClassifier()\n",
    "clf_un.fit(X_train, y_train)\n",
    "train_pred =clf_un.predict_proba(X_train)[:,1]\n",
    "y_pred = clf_un.predict_proba(X_test)[:, 1]\n",
    "print('Train ROC_AUC results: {}'.format( roc_auc_score(y_train, train_pred)))\n",
    "print('Test ROC_AUC results: {}'.format(roc_auc_score(y_test, y_pred)))"
   ]
  },
  {
   "cell_type": "code",
   "execution_count": 307,
   "metadata": {},
   "outputs": [
    {
     "name": "stdout",
     "output_type": "stream",
     "text": [
      "Train ROC_AUC results: 0.819619375659682\n",
      "Test ROC_AUC results: 0.8062787220661078\n"
     ]
    }
   ],
   "source": [
    "ran_tree = RandomForestClassifier(n_estimators = 100, max_depth = 8, class_weight={0:1,1:13},max_features = 10, random_state= 422)\n",
    "ran_tree.fit(X_train, y_train)\n",
    "train_pred =ran_tree.predict_proba(X_train)[:,1]\n",
    "y_pred = ran_tree.predict_proba(X_test)[:, 1]\n",
    "print('Train ROC_AUC results: {}'.format( roc_auc_score(y_train, train_pred)))\n",
    "print('Test ROC_AUC results: {}'.format(roc_auc_score(y_test, y_pred)))"
   ]
  },
  {
   "cell_type": "code",
   "execution_count": 306,
   "metadata": {},
   "outputs": [
    {
     "name": "stdout",
     "output_type": "stream",
     "text": [
      "Train ROC_AUC results: 0.7988696707381208\n",
      "Test ROC_AUC results: 0.7908941783379069\n"
     ]
    }
   ],
   "source": [
    "log_clf = LogisticRegression(class_weight = {0:1, 1:13}, C = 10,  n_jobs = -1)\n",
    "log_clf.fit(X_train, y_train)\n",
    "train_pred =log_clf.predict_proba(X_train)[:,1]\n",
    "y_pred = log_clf.predict_proba(X_test)[:, 1]\n",
    "print('Train ROC_AUC results: {}'.format( roc_auc_score(y_train, train_pred)))\n",
    "print('Test ROC_AUC results: {}'.format(roc_auc_score(y_test, y_pred)))"
   ]
  },
  {
   "cell_type": "code",
   "execution_count": 308,
   "metadata": {},
   "outputs": [
    {
     "data": {
      "text/plain": [
       "VotingClassifier(estimators=[('lr',\n",
       "                              LogisticRegression(C=10,\n",
       "                                                 class_weight={0: 1, 1: 13},\n",
       "                                                 n_jobs=-1)),\n",
       "                             ('random',\n",
       "                              RandomForestClassifier(class_weight={0: 1, 1: 13},\n",
       "                                                     max_depth=8,\n",
       "                                                     max_features=10,\n",
       "                                                     random_state=422)),\n",
       "                             ('gbt',\n",
       "                              GradientBoostingClassifier(random_state=422))],\n",
       "                 voting='soft')"
      ]
     },
     "execution_count": 308,
     "metadata": {},
     "output_type": "execute_result"
    }
   ],
   "source": [
    "from sklearn.ensemble import RandomForestClassifier, VotingClassifier\n",
    "\n",
    "log_clf = LogisticRegression(class_weight = {0:1, 1:13}, C = 10,  n_jobs = -1)\n",
    "gbt_clf = GradientBoostingClassifier(random_state= 422)\n",
    "ran_clf = RandomForestClassifier(n_estimators = 100, max_depth = 8, class_weight={0:1,1:13},max_features = 10, random_state= 422)\n",
    "\n",
    "voting_clf = VotingClassifier(estimators = [('lr', log_clf), ('random', ran_clf), ('gbt', gbt_clf)], voting = 'soft')\n",
    "voting_clf.fit(X_train, y_train)"
   ]
  },
  {
   "cell_type": "code",
   "execution_count": 309,
   "metadata": {},
   "outputs": [
    {
     "name": "stdout",
     "output_type": "stream",
     "text": [
      "LogisticRegression 0.7908941783379069\n",
      "RandomForestClassifier 0.8062787220661078\n",
      "GradientBoostingClassifier 0.808531590423513\n",
      "VotingClassifier 0.8049371139120993\n"
     ]
    }
   ],
   "source": [
    "from sklearn.metrics import accuracy_score\n",
    "\n",
    "for clf in [log_clf, ran_clf, gbt_clf, voting_clf]:\n",
    "    clf.fit(X_train, y_train)\n",
    "    y_pred = clf.predict_proba(X_test)[:,1]\n",
    "    print(clf.__class__.__name__,roc_auc_score(y_test, y_pred))"
   ]
  },
  {
   "cell_type": "code",
   "execution_count": 310,
   "metadata": {},
   "outputs": [
    {
     "name": "stdout",
     "output_type": "stream",
     "text": [
      "RF: 0.804547 (0.025468)\n",
      "LR: 0.791144 (0.030763)\n",
      "GBR: 0.806307 (0.024717)\n",
      "VR: 0.805160 (0.025643)\n"
     ]
    }
   ],
   "source": [
    "seed = 445\n",
    "models = []\n",
    "models.append(('RF',RandomForestClassifier(n_estimators = 100, max_depth = 8, class_weight={0:1,1:13},max_features = 10, random_state= 422) ))\n",
    "models.append(('LR', LogisticRegression(class_weight = {0:1, 1:13}, C = 10,  n_jobs = -1)))\n",
    "models.append(('GBR', GradientBoostingClassifier(random_state = 544 )))\n",
    "models.append(('VR',VotingClassifier(estimators = [('lr', log_clf), ('random', ran_clf), ('gbt', gbt_clf)], voting = 'soft')))\n",
    "results = []\n",
    "names = []\n",
    "for name, model in models:\n",
    "    kfold = StratifiedKFold(n_splits=10, random_state=seed)\n",
    "    cv_results = cross_val_score(model, X, y, cv=kfold, scoring='roc_auc',  n_jobs = -1)\n",
    "    results.append(cv_results)\n",
    "    names.append(name)\n",
    "    msg = \"%s: %f (%f)\" % (name, cv_results.mean(), cv_results.std())\n",
    "    print(msg)"
   ]
  },
  {
   "cell_type": "code",
   "execution_count": 314,
   "metadata": {},
   "outputs": [
    {
     "data": {
      "text/html": [
       "<div>\n",
       "<style scoped>\n",
       "    .dataframe tbody tr th:only-of-type {\n",
       "        vertical-align: middle;\n",
       "    }\n",
       "\n",
       "    .dataframe tbody tr th {\n",
       "        vertical-align: top;\n",
       "    }\n",
       "\n",
       "    .dataframe thead th {\n",
       "        text-align: right;\n",
       "    }\n",
       "</style>\n",
       "<table border=\"1\" class=\"dataframe\">\n",
       "  <thead>\n",
       "    <tr style=\"text-align: right;\">\n",
       "      <th></th>\n",
       "      <th>fine_amount</th>\n",
       "      <th>admin_fee</th>\n",
       "      <th>state_fee</th>\n",
       "      <th>late_fee</th>\n",
       "      <th>discount_amount</th>\n",
       "      <th>clean_up_cost</th>\n",
       "      <th>judgment_amount</th>\n",
       "      <th>lat</th>\n",
       "      <th>lon</th>\n",
       "      <th>0</th>\n",
       "      <th>...</th>\n",
       "      <th>44</th>\n",
       "      <th>45</th>\n",
       "      <th>46</th>\n",
       "      <th>47</th>\n",
       "      <th>48</th>\n",
       "      <th>49</th>\n",
       "      <th>50</th>\n",
       "      <th>51</th>\n",
       "      <th>52</th>\n",
       "      <th>53</th>\n",
       "    </tr>\n",
       "  </thead>\n",
       "  <tbody>\n",
       "    <tr>\n",
       "      <th>0</th>\n",
       "      <td>200.0</td>\n",
       "      <td>20.0</td>\n",
       "      <td>10.0</td>\n",
       "      <td>20.0</td>\n",
       "      <td>0.0</td>\n",
       "      <td>0.0</td>\n",
       "      <td>250.0</td>\n",
       "      <td>42.407581</td>\n",
       "      <td>-82.986642</td>\n",
       "      <td>0.0</td>\n",
       "      <td>...</td>\n",
       "      <td>0.0</td>\n",
       "      <td>0.0</td>\n",
       "      <td>0.0</td>\n",
       "      <td>0.0</td>\n",
       "      <td>0.0</td>\n",
       "      <td>0.0</td>\n",
       "      <td>0.0</td>\n",
       "      <td>0.0</td>\n",
       "      <td>1.0</td>\n",
       "      <td>0.0</td>\n",
       "    </tr>\n",
       "    <tr>\n",
       "      <th>1</th>\n",
       "      <td>1000.0</td>\n",
       "      <td>20.0</td>\n",
       "      <td>10.0</td>\n",
       "      <td>100.0</td>\n",
       "      <td>0.0</td>\n",
       "      <td>0.0</td>\n",
       "      <td>1130.0</td>\n",
       "      <td>42.426239</td>\n",
       "      <td>-83.238259</td>\n",
       "      <td>0.0</td>\n",
       "      <td>...</td>\n",
       "      <td>0.0</td>\n",
       "      <td>0.0</td>\n",
       "      <td>0.0</td>\n",
       "      <td>0.0</td>\n",
       "      <td>0.0</td>\n",
       "      <td>0.0</td>\n",
       "      <td>0.0</td>\n",
       "      <td>0.0</td>\n",
       "      <td>1.0</td>\n",
       "      <td>0.0</td>\n",
       "    </tr>\n",
       "    <tr>\n",
       "      <th>2</th>\n",
       "      <td>100.0</td>\n",
       "      <td>20.0</td>\n",
       "      <td>10.0</td>\n",
       "      <td>10.0</td>\n",
       "      <td>0.0</td>\n",
       "      <td>0.0</td>\n",
       "      <td>140.0</td>\n",
       "      <td>42.426239</td>\n",
       "      <td>-83.238259</td>\n",
       "      <td>0.0</td>\n",
       "      <td>...</td>\n",
       "      <td>0.0</td>\n",
       "      <td>0.0</td>\n",
       "      <td>0.0</td>\n",
       "      <td>0.0</td>\n",
       "      <td>0.0</td>\n",
       "      <td>0.0</td>\n",
       "      <td>0.0</td>\n",
       "      <td>0.0</td>\n",
       "      <td>1.0</td>\n",
       "      <td>0.0</td>\n",
       "    </tr>\n",
       "    <tr>\n",
       "      <th>3</th>\n",
       "      <td>200.0</td>\n",
       "      <td>20.0</td>\n",
       "      <td>10.0</td>\n",
       "      <td>20.0</td>\n",
       "      <td>0.0</td>\n",
       "      <td>0.0</td>\n",
       "      <td>250.0</td>\n",
       "      <td>42.309661</td>\n",
       "      <td>-83.122426</td>\n",
       "      <td>0.0</td>\n",
       "      <td>...</td>\n",
       "      <td>0.0</td>\n",
       "      <td>0.0</td>\n",
       "      <td>0.0</td>\n",
       "      <td>0.0</td>\n",
       "      <td>0.0</td>\n",
       "      <td>0.0</td>\n",
       "      <td>0.0</td>\n",
       "      <td>0.0</td>\n",
       "      <td>1.0</td>\n",
       "      <td>0.0</td>\n",
       "    </tr>\n",
       "    <tr>\n",
       "      <th>4</th>\n",
       "      <td>100.0</td>\n",
       "      <td>20.0</td>\n",
       "      <td>10.0</td>\n",
       "      <td>10.0</td>\n",
       "      <td>0.0</td>\n",
       "      <td>0.0</td>\n",
       "      <td>140.0</td>\n",
       "      <td>42.308830</td>\n",
       "      <td>-83.121116</td>\n",
       "      <td>0.0</td>\n",
       "      <td>...</td>\n",
       "      <td>0.0</td>\n",
       "      <td>0.0</td>\n",
       "      <td>0.0</td>\n",
       "      <td>0.0</td>\n",
       "      <td>0.0</td>\n",
       "      <td>0.0</td>\n",
       "      <td>0.0</td>\n",
       "      <td>0.0</td>\n",
       "      <td>1.0</td>\n",
       "      <td>0.0</td>\n",
       "    </tr>\n",
       "  </tbody>\n",
       "</table>\n",
       "<p>5 rows × 63 columns</p>\n",
       "</div>"
      ],
      "text/plain": [
       "   fine_amount  admin_fee  state_fee  late_fee  discount_amount  \\\n",
       "0        200.0       20.0       10.0      20.0              0.0   \n",
       "1       1000.0       20.0       10.0     100.0              0.0   \n",
       "2        100.0       20.0       10.0      10.0              0.0   \n",
       "3        200.0       20.0       10.0      20.0              0.0   \n",
       "4        100.0       20.0       10.0      10.0              0.0   \n",
       "\n",
       "   clean_up_cost  judgment_amount        lat        lon    0  ...   44   45  \\\n",
       "0            0.0            250.0  42.407581 -82.986642  0.0  ...  0.0  0.0   \n",
       "1            0.0           1130.0  42.426239 -83.238259  0.0  ...  0.0  0.0   \n",
       "2            0.0            140.0  42.426239 -83.238259  0.0  ...  0.0  0.0   \n",
       "3            0.0            250.0  42.309661 -83.122426  0.0  ...  0.0  0.0   \n",
       "4            0.0            140.0  42.308830 -83.121116  0.0  ...  0.0  0.0   \n",
       "\n",
       "    46   47   48   49   50   51   52   53  \n",
       "0  0.0  0.0  0.0  0.0  0.0  0.0  1.0  0.0  \n",
       "1  0.0  0.0  0.0  0.0  0.0  0.0  1.0  0.0  \n",
       "2  0.0  0.0  0.0  0.0  0.0  0.0  1.0  0.0  \n",
       "3  0.0  0.0  0.0  0.0  0.0  0.0  1.0  0.0  \n",
       "4  0.0  0.0  0.0  0.0  0.0  0.0  1.0  0.0  \n",
       "\n",
       "[5 rows x 63 columns]"
      ]
     },
     "execution_count": 314,
     "metadata": {},
     "output_type": "execute_result"
    }
   ],
   "source": [
    "valid.head()"
   ]
  },
  {
   "cell_type": "code",
   "execution_count": 315,
   "metadata": {},
   "outputs": [
    {
     "data": {
      "text/html": [
       "<div>\n",
       "<style scoped>\n",
       "    .dataframe tbody tr th:only-of-type {\n",
       "        vertical-align: middle;\n",
       "    }\n",
       "\n",
       "    .dataframe tbody tr th {\n",
       "        vertical-align: top;\n",
       "    }\n",
       "\n",
       "    .dataframe thead th {\n",
       "        text-align: right;\n",
       "    }\n",
       "</style>\n",
       "<table border=\"1\" class=\"dataframe\">\n",
       "  <thead>\n",
       "    <tr style=\"text-align: right;\">\n",
       "      <th></th>\n",
       "      <th>agency_name</th>\n",
       "      <th>violation_code</th>\n",
       "      <th>disposition</th>\n",
       "      <th>fine_amount</th>\n",
       "      <th>admin_fee</th>\n",
       "      <th>state_fee</th>\n",
       "      <th>late_fee</th>\n",
       "      <th>discount_amount</th>\n",
       "      <th>clean_up_cost</th>\n",
       "      <th>judgment_amount</th>\n",
       "      <th>lat</th>\n",
       "      <th>lon</th>\n",
       "    </tr>\n",
       "  </thead>\n",
       "  <tbody>\n",
       "    <tr>\n",
       "      <th>0</th>\n",
       "      <td>Department of Public Works</td>\n",
       "      <td>22-2-61</td>\n",
       "      <td>Responsible by Default</td>\n",
       "      <td>200.0</td>\n",
       "      <td>20.0</td>\n",
       "      <td>10.0</td>\n",
       "      <td>20.0</td>\n",
       "      <td>0.0</td>\n",
       "      <td>0.0</td>\n",
       "      <td>250.0</td>\n",
       "      <td>42.407581</td>\n",
       "      <td>-82.986642</td>\n",
       "    </tr>\n",
       "    <tr>\n",
       "      <th>1</th>\n",
       "      <td>Department of Public Works</td>\n",
       "      <td>22-2-88(b)</td>\n",
       "      <td>Responsible by Default</td>\n",
       "      <td>1000.0</td>\n",
       "      <td>20.0</td>\n",
       "      <td>10.0</td>\n",
       "      <td>100.0</td>\n",
       "      <td>0.0</td>\n",
       "      <td>0.0</td>\n",
       "      <td>1130.0</td>\n",
       "      <td>42.426239</td>\n",
       "      <td>-83.238259</td>\n",
       "    </tr>\n",
       "    <tr>\n",
       "      <th>2</th>\n",
       "      <td>Department of Public Works</td>\n",
       "      <td>22-2-43</td>\n",
       "      <td>Responsible by Default</td>\n",
       "      <td>100.0</td>\n",
       "      <td>20.0</td>\n",
       "      <td>10.0</td>\n",
       "      <td>10.0</td>\n",
       "      <td>0.0</td>\n",
       "      <td>0.0</td>\n",
       "      <td>140.0</td>\n",
       "      <td>42.426239</td>\n",
       "      <td>-83.238259</td>\n",
       "    </tr>\n",
       "    <tr>\n",
       "      <th>3</th>\n",
       "      <td>Department of Public Works</td>\n",
       "      <td>22-2-88(b)</td>\n",
       "      <td>Responsible by Default</td>\n",
       "      <td>200.0</td>\n",
       "      <td>20.0</td>\n",
       "      <td>10.0</td>\n",
       "      <td>20.0</td>\n",
       "      <td>0.0</td>\n",
       "      <td>0.0</td>\n",
       "      <td>250.0</td>\n",
       "      <td>42.309661</td>\n",
       "      <td>-83.122426</td>\n",
       "    </tr>\n",
       "    <tr>\n",
       "      <th>4</th>\n",
       "      <td>Department of Public Works</td>\n",
       "      <td>22-2-45</td>\n",
       "      <td>Responsible by Default</td>\n",
       "      <td>100.0</td>\n",
       "      <td>20.0</td>\n",
       "      <td>10.0</td>\n",
       "      <td>10.0</td>\n",
       "      <td>0.0</td>\n",
       "      <td>0.0</td>\n",
       "      <td>140.0</td>\n",
       "      <td>42.308830</td>\n",
       "      <td>-83.121116</td>\n",
       "    </tr>\n",
       "  </tbody>\n",
       "</table>\n",
       "</div>"
      ],
      "text/plain": [
       "                  agency_name violation_code             disposition  \\\n",
       "0  Department of Public Works        22-2-61  Responsible by Default   \n",
       "1  Department of Public Works     22-2-88(b)  Responsible by Default   \n",
       "2  Department of Public Works        22-2-43  Responsible by Default   \n",
       "3  Department of Public Works     22-2-88(b)  Responsible by Default   \n",
       "4  Department of Public Works        22-2-45  Responsible by Default   \n",
       "\n",
       "   fine_amount  admin_fee  state_fee  late_fee  discount_amount  \\\n",
       "0        200.0       20.0       10.0      20.0              0.0   \n",
       "1       1000.0       20.0       10.0     100.0              0.0   \n",
       "2        100.0       20.0       10.0      10.0              0.0   \n",
       "3        200.0       20.0       10.0      20.0              0.0   \n",
       "4        100.0       20.0       10.0      10.0              0.0   \n",
       "\n",
       "   clean_up_cost  judgment_amount        lat        lon  \n",
       "0            0.0            250.0  42.407581 -82.986642  \n",
       "1            0.0           1130.0  42.426239 -83.238259  \n",
       "2            0.0            140.0  42.426239 -83.238259  \n",
       "3            0.0            250.0  42.309661 -83.122426  \n",
       "4            0.0            140.0  42.308830 -83.121116  "
      ]
     },
     "execution_count": 315,
     "metadata": {},
     "output_type": "execute_result"
    }
   ],
   "source": [
    "test.head()"
   ]
  },
  {
   "cell_type": "code",
   "execution_count": 316,
   "metadata": {},
   "outputs": [
    {
     "data": {
      "text/plain": [
       "ticket_id\n",
       "284932    0.099618\n",
       "285362    0.017205\n",
       "285361    0.048761\n",
       "285338    0.057972\n",
       "285346    0.057179\n",
       "            ...   \n",
       "376496    0.015449\n",
       "376497    0.015449\n",
       "376499    0.063901\n",
       "376500    0.063901\n",
       "369851    0.735564\n",
       "Length: 61001, dtype: float64"
      ]
     },
     "execution_count": 316,
     "metadata": {},
     "output_type": "execute_result"
    }
   ],
   "source": [
    "df = pd.Series(gbt_clf.predict_proba(valid)[:,1], ticket_ID)\n",
    "df"
   ]
  },
  {
   "cell_type": "code",
   "execution_count": 318,
   "metadata": {},
   "outputs": [
    {
     "data": {
      "text/plain": [
       "ticket_id\n",
       "284932    0.094136\n",
       "285362    0.016280\n",
       "285361    0.046628\n",
       "285338    0.059612\n",
       "285346    0.085324\n",
       "            ...   \n",
       "376496    0.015875\n",
       "376497    0.015875\n",
       "376499    0.064833\n",
       "376500    0.064833\n",
       "369851    0.737373\n",
       "Length: 61001, dtype: float64"
      ]
     },
     "execution_count": 318,
     "metadata": {},
     "output_type": "execute_result"
    }
   ],
   "source": [
    "\n",
    "def blight_model():\n",
    "    import pandas as pd\n",
    "    import numpy as np\n",
    "    \n",
    "    # Your code here\n",
    "    train = pd.read_csv('./train.csv',encoding='latin1' )\n",
    "    test = pd.read_csv('./test.csv', encoding='latin1')\n",
    "    address = pd.read_csv('./addresses.csv', encoding='latin1')\n",
    "    lat = pd.read_csv('./latlons.csv' ,encoding='latin1')\n",
    "    \n",
    "    ## Merging the train and test dataset with the latitude and address\n",
    "    new_train = pd.merge(train, address, on = 'ticket_id')\n",
    "    train = pd.merge(new_train, lat, on = 'address')\n",
    "    \n",
    "    new_test = pd.merge(test, address, on = 'ticket_id')\n",
    "    test = pd.merge(new_test, lat, on = 'address')\n",
    "    \n",
    "    # Delete the features that are not present in Test set\n",
    "    Features_drop_from_train_dataset = ['payment_amount', 'payment_date',\n",
    "                                        'payment_status', 'balance_due', \n",
    "                                        'collection_status', 'compliance_detail' ]\n",
    "    train.drop(Features_drop_from_train_dataset, axis = 1, inplace = True)\n",
    "    \n",
    "    # Remove the null part of the target\n",
    "    train = train[~train.compliance.isnull()]\n",
    "    \n",
    "    # Remove from train set which is not  USA\n",
    "    train = train[train.country == 'USA']\n",
    "    \n",
    "    # From careful observation, it was shown that the state which is not Michigan has almost the same address as Michigan, thus I suggest the state were all Michigan but to ensure the data is messy different state is imputed.\n",
    "    # And also after careful online search of cities in MI, it was discovered that there are over 1357 cities, thus it will also be discarded.\n",
    "    # The only feature which talks about location lat and lon will be used for the continuation of the prediction\n",
    "    \n",
    "    # Remove lat and lon outliers\n",
    "    train = train[train.lat < 44.5]\n",
    "    train = train[~((train.lon < -84.0) | (train.lon > -82.7))]\n",
    "    \n",
    "    # Features to be removed from both the train and test set\n",
    "    Features_to_be_removed = ['mailing_address_str_name', 'violation_description','address', 'grafitti_status',\n",
    "                              'violation_street_number', 'violation_street_name',\n",
    "                         'inspector_name', 'violator_name', 'violation_zip_code',\n",
    "                              'mailing_address_str_number','non_us_str_code', 'country', \n",
    "                              'ticket_issued_date', 'hearing_date', 'city', 'state', 'zip_code']\n",
    "    train.drop(Features_to_be_removed, axis =1, inplace = True)\n",
    "    \n",
    "    # Remove the ticket_id from the train set only\n",
    "    train.drop('ticket_id', axis =1 , inplace= True)\n",
    "    test.drop(Features_to_be_removed, axis = 1, inplace=True)\n",
    "    \n",
    "    # Create a variable for the test ticket_ID\n",
    "    ticket_ID = test.ticket_id\n",
    "\n",
    "    # Drop the test ticket_id\n",
    "    test.drop('ticket_id', axis =1 , inplace= True)\n",
    "    \n",
    "    # Dealing with categorical variables left\n",
    "    test.disposition.replace('Responsible - Compl/Adj by Default', 'Responsible by Default', inplace = True)\n",
    "    test.disposition.replace('Responsible - Compl/Adj by Determi', 'Responsible by Determination', inplace = True)\n",
    "    test.disposition.replace('Responsible (Fine Waived) by Admis', 'Responsible (Fine Waived) by Deter', inplace= True)\n",
    "    test.disposition.value_counts()\n",
    "    \n",
    "    violation_code_stats = train.groupby('violation_code')['violation_code'].agg('count').sort_values(ascending = False)\n",
    "    violation_code_stats_less_than_50 =violation_code_stats[violation_code_stats <50]\n",
    "    \n",
    "    violation_code_test = test.groupby('violation_code')['violation_code'].agg('count').sort_values(ascending = False)\n",
    "    violation_code_test_less_than_50 =violation_code_test[violation_code_test <50]\n",
    "    \n",
    "    train.violation_code = train.violation_code.apply(lambda x: 'others' if x in violation_code_stats_less_than_50 else x)\n",
    "    test.violation_code = test.violation_code.apply(lambda x: 'others' if x in violation_code_test_less_than_50 else x)\n",
    "    \n",
    "    test.lat = test.lat.fillna(np.mean(test.lat))\n",
    "    test.lon = test.lon.fillna(np.mean(test.lon))\n",
    "    # Getting the categorical features for encoding\n",
    "    cat_feat = train.select_dtypes(include=[np.object]).columns\n",
    "\n",
    "    \n",
    "    # import the encoder OneHotEncoder\n",
    "    from sklearn.preprocessing import OneHotEncoder\n",
    "    ohe = OneHotEncoder(handle_unknown= 'ignore')\n",
    "    \n",
    "    # Fitting the encoder to the categorical variables\n",
    "    X = train.drop('compliance', axis = 1)\n",
    "    y = train.compliance.values\n",
    "    \n",
    "    valid = test.copy()\n",
    "    train_cat = X[cat_feat]\n",
    "    test_cat = valid[cat_feat]\n",
    "    train_cat = ohe.fit_transform(train_cat).toarray()\n",
    "    test_cat = ohe.transform(test_cat).toarray()\n",
    "    \n",
    "    X = X.reset_index(drop = True)\n",
    "    train_cat = pd.DataFrame(train_cat)\n",
    "    test_cat = pd.DataFrame(test_cat)\n",
    "    \n",
    "    X = X.join(train_cat)\n",
    "    valid = valid.join(test_cat)\n",
    "    \n",
    "    # Drop the categorical variable after encoding\n",
    "    X.drop(cat_feat, axis = 1, inplace= True)\n",
    "    valid.drop(cat_feat, axis = 1, inplace= True)\n",
    "    \n",
    "    # Import the algorithm and the metrics score\n",
    "    from sklearn.metrics import roc_auc_score\n",
    "    from sklearn.ensemble import GradientBoostingClassifier, RandomForestClassifier, ExtraTreesClassifier\n",
    "    \n",
    "    gbt_clf = GradientBoostingClassifier(random_state= 422)\n",
    "    gbt_clf.fit(X, y)\n",
    "    \n",
    "    df = pd.Series(gbt_clf.predict_proba(valid)[:,1], ticket_ID)\n",
    "    return df\n",
    "blight_model()"
   ]
  },
  {
   "cell_type": "code",
   "execution_count": null,
   "metadata": {},
   "outputs": [],
   "source": []
  }
 ],
 "metadata": {
  "kernelspec": {
   "display_name": "Python 3",
   "language": "python",
   "name": "python3"
  },
  "language_info": {
   "codemirror_mode": {
    "name": "ipython",
    "version": 3
   },
   "file_extension": ".py",
   "mimetype": "text/x-python",
   "name": "python",
   "nbconvert_exporter": "python",
   "pygments_lexer": "ipython3",
   "version": "3.6.4"
  }
 },
 "nbformat": 4,
 "nbformat_minor": 4
}
